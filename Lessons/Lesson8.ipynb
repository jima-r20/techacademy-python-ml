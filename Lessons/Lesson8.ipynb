{
 "cells": [
  {
   "cell_type": "code",
   "execution_count": 1,
   "metadata": {},
   "outputs": [
    {
     "name": "stdout",
     "output_type": "stream",
     "text": [
      "Hello!\n",
      "It is a fine today!!\n",
      "Good morning!\n",
      "Have a nice today!!\n"
     ]
    }
   ],
   "source": [
    "def hello():\n",
    "    print(\"Hello!\")\n",
    "    print(\"It is a fine today!!\")\n",
    "    \n",
    "def good_morning():\n",
    "    print(\"Good morning!\")\n",
    "    print(\"Have a nice today!!\")\n",
    "    \n",
    "hello()\n",
    "good_morning()"
   ]
  },
  {
   "cell_type": "code",
   "execution_count": 3,
   "metadata": {},
   "outputs": [
    {
     "name": "stdout",
     "output_type": "stream",
     "text": [
      "Hello!\n",
      "My name is tanaka.\n",
      "I'm 25 years old.\n",
      "Hello!\n",
      "My name is suzuki.\n",
      "I'm 30 years old.\n",
      "Hello!\n",
      "My name is sato.\n",
      "I'm 20 years old.\n",
      "Hello!\n",
      "My name is takahashi.\n",
      "I'm 35 years old.\n"
     ]
    }
   ],
   "source": [
    "def introduce(name, age):\n",
    "    print(\"Hello!\")\n",
    "    print(f\"My name is {name}.\")\n",
    "    print(f\"I'm {age} years old.\")\n",
    "\n",
    "introduce(\"tanaka\", 25)\n",
    "introduce(\"suzuki\", 30)\n",
    "introduce(name = \"sato\", age = 20)\n",
    "introduce(age = 35, name = \"takahashi\")"
   ]
  },
  {
   "cell_type": "code",
   "execution_count": 4,
   "metadata": {},
   "outputs": [
    {
     "name": "stdout",
     "output_type": "stream",
     "text": [
      "Hello!\n",
      "My name is tanaka.\n",
      "I'm 25 years old.\n",
      "Hello!\n",
      "My name is suzuki.\n",
      "I'm 18 years old.\n",
      "Hello!\n",
      "My name is nanashi.\n",
      "I'm 30 years old.\n",
      "Hello!\n",
      "My name is nanashi.\n",
      "I'm 18 years old.\n"
     ]
    }
   ],
   "source": [
    "def introduce(name = \"nanashi\", age = 18):\n",
    "    print(\"Hello!\")\n",
    "    print(f\"My name is {name}.\")\n",
    "    print(f\"I'm {age} years old.\")\n",
    "    \n",
    "introduce(\"tanaka\", 25)\n",
    "introduce(\"suzuki\")\n",
    "introduce(age = 30)\n",
    "introduce()"
   ]
  },
  {
   "cell_type": "code",
   "execution_count": 5,
   "metadata": {},
   "outputs": [
    {
     "name": "stdin",
     "output_type": "stream",
     "text": [
      "身長(m)を入力： 1.72\n",
      "体重(kg)を入力： 53\n"
     ]
    },
    {
     "name": "stdout",
     "output_type": "stream",
     "text": [
      "BMI値：17.9\n"
     ]
    }
   ],
   "source": [
    "def calc_bmi(height, weight):\n",
    "    ret = weight / height ** 2  # 「**」は２乗\n",
    "    return ret\n",
    "\n",
    "height = float(input(\"身長(m)を入力：\"))\n",
    "weight = float(input(\"体重(kg)を入力：\"))\n",
    "\n",
    "bmi = calc_bmi(height, weight)\n",
    "print(f\"BMI値：{bmi:.1f}\")  # 「.1f」は小数第一位まで表示"
   ]
  },
  {
   "cell_type": "code",
   "execution_count": 8,
   "metadata": {},
   "outputs": [
    {
     "name": "stdin",
     "output_type": "stream",
     "text": [
      "数値を入力してください： 10\n"
     ]
    },
    {
     "name": "stdout",
     "output_type": "stream",
     "text": [
      "55\n"
     ]
    }
   ],
   "source": [
    "def sum_nums():\n",
    "    max_num = int(input(\"数値を入力してください：\"))\n",
    "    \n",
    "    if max_num < 0:\n",
    "        return None\n",
    "    \n",
    "    ret = 0\n",
    "    for i in range(max_num + 1):\n",
    "        ret += i\n",
    "        \n",
    "    return ret\n",
    "\n",
    "print(sum_nums())"
   ]
  },
  {
   "cell_type": "code",
   "execution_count": 2,
   "metadata": {},
   "outputs": [
    {
     "name": "stdout",
     "output_type": "stream",
     "text": [
      "<class 'module'>\n",
      "<module 'health' from '/home/ubuntu/environment/health.py'>\n"
     ]
    }
   ],
   "source": [
    "print(type(health))\n",
    "print(health)"
   ]
  },
  {
   "cell_type": "code",
   "execution_count": 4,
   "metadata": {},
   "outputs": [
    {
     "name": "stdin",
     "output_type": "stream",
     "text": [
      "身長(m)を入力してください： 1.72\n",
      "体重(kg)を入力してください： 53\n"
     ]
    },
    {
     "name": "stdout",
     "output_type": "stream",
     "text": [
      "BMI値:17.9\n",
      "標準体重:65.1kg\n"
     ]
    }
   ],
   "source": [
    "height = float(input(\"身長(m)を入力してください：\"))\n",
    "weight = float(input(\"体重(kg)を入力してください：\"))\n",
    "\n",
    "my_bmi = health.bmi(height, weight)\n",
    "my_standard_weight = health.standard_weight(height)\n",
    "\n",
    "print(f\"BMI値:{my_bmi:.1f}\")\n",
    "print(f\"標準体重:{my_standard_weight:.1f}kg\")"
   ]
  },
  {
   "cell_type": "code",
   "execution_count": 5,
   "metadata": {},
   "outputs": [
    {
     "name": "stdin",
     "output_type": "stream",
     "text": [
      "身長(m)を入力してください： 1.72\n",
      "体重(kg)を入力してください： 53\n"
     ]
    },
    {
     "name": "stdout",
     "output_type": "stream",
     "text": [
      "BMI値：17.9\n"
     ]
    }
   ],
   "source": [
    "from health import bmi\n",
    "\n",
    "height = float(input(\"身長(m)を入力してください：\"))\n",
    "weight = float(input(\"体重(kg)を入力してください：\"))\n",
    "\n",
    "my_bmi = bmi(height, weight)\n",
    "\n",
    "print(f\"BMI値：{my_bmi:.1f}\")"
   ]
  },
  {
   "cell_type": "code",
   "execution_count": 6,
   "metadata": {},
   "outputs": [
    {
     "name": "stdin",
     "output_type": "stream",
     "text": [
      "身長(m)を入力してください： 1.72\n",
      "体重(kg)を入力してください： 53\n"
     ]
    },
    {
     "name": "stdout",
     "output_type": "stream",
     "text": [
      "BMI値:17.9\n",
      "標準体重:65.1kg\n"
     ]
    }
   ],
   "source": [
    "import health as h\n",
    "\n",
    "height = float(input(\"身長(m)を入力してください：\"))\n",
    "weight = float(input(\"体重(kg)を入力してください：\"))\n",
    "\n",
    "my_bmi = h.bmi(height, weight)\n",
    "my_standard_weight = h.standard_weight(height)\n",
    "\n",
    "print(f\"BMI値:{my_bmi:.1f}\")\n",
    "print(f\"標準体重:{my_standard_weight:.1f}kg\")"
   ]
  },
  {
   "cell_type": "code",
   "execution_count": 8,
   "metadata": {},
   "outputs": [
    {
     "name": "stdin",
     "output_type": "stream",
     "text": [
      "身長(m)を入力してください： 1.72\n",
      "体重(kg)を入力してください： 53\n"
     ]
    },
    {
     "name": "stdout",
     "output_type": "stream",
     "text": [
      "BMI値：17.9\n"
     ]
    }
   ],
   "source": [
    "from health import bmi as b\n",
    "\n",
    "height = float(input(\"身長(m)を入力してください：\"))\n",
    "weight = float(input(\"体重(kg)を入力してください：\"))\n",
    "\n",
    "my_bmi = b(height, weight)\n",
    "\n",
    "print(f\"BMI値：{my_bmi:.1f}\")"
   ]
  },
  {
   "cell_type": "code",
   "execution_count": 1,
   "metadata": {},
   "outputs": [
    {
     "name": "stdout",
     "output_type": "stream",
     "text": [
      "6\n",
      "5\n"
     ]
    }
   ],
   "source": [
    "import math\n",
    "\n",
    "a = 5.4\n",
    "\n",
    "print(math.ceil(a))  # 小数点以下切り上げ\n",
    "print(math.floor(a))  # 小数点以下切り捨て"
   ]
  },
  {
   "cell_type": "code",
   "execution_count": 3,
   "metadata": {},
   "outputs": [
    {
     "name": "stdout",
     "output_type": "stream",
     "text": [
      "7\n",
      "15\n",
      "1\n"
     ]
    }
   ],
   "source": [
    "import random\n",
    "\n",
    "print(random.randrange(11))  # 0以上11未満でランダム整数\n",
    "print(random.randrange(1, 20, 2))  # 1以上20未満でランダム整数\n",
    "print(random.randint(1, 10))  # 1以上10'以下'でランダム整数"
   ]
  },
  {
   "cell_type": "code",
   "execution_count": 6,
   "metadata": {},
   "outputs": [
    {
     "name": "stdout",
     "output_type": "stream",
     "text": [
      "2\n",
      "[0, 1, 0]\n",
      "[0, 2, 4]\n",
      "[0, 1, 2, 3, 4]\n",
      "[1, 3, 0, 4, 2]\n"
     ]
    }
   ],
   "source": [
    "import random\n",
    "\n",
    "nums = list(range(5))\n",
    "\n",
    "print(random.choice(nums))  # シーケンスからランダムに１つ\n",
    "print(random.choices(nums, k = 3))  # シーケンスから'重複あり'でランダムにk個\n",
    "print(random.sample(nums, 3))  # シーケンスから'重複なし'でランダムにk個\n",
    "\n",
    "print(nums)\n",
    "random.shuffle(nums)  # シーケンスを並び替える\n",
    "print(nums)"
   ]
  },
  {
   "cell_type": "code",
   "execution_count": 9,
   "metadata": {},
   "outputs": [
    {
     "name": "stdout",
     "output_type": "stream",
     "text": [
      "2021-01-07 22:34:07.990222+09:00\n"
     ]
    }
   ],
   "source": [
    "from datetime import datetime, timedelta, timezone\n",
    "\n",
    "jst = timezone(timedelta(hours=+9), 'JST')  # タイムゾーンをJSTに設定\n",
    "\n",
    "now_dtm = datetime.now(jst)  # 日時の両方取得\n",
    "\n",
    "print(now_dtm)"
   ]
  },
  {
   "cell_type": "code",
   "execution_count": 12,
   "metadata": {},
   "outputs": [
    {
     "name": "stdout",
     "output_type": "stream",
     "text": [
      "2019-05-25 09:41:36\n",
      "2019-06-01 09:41:36\n"
     ]
    }
   ],
   "source": [
    "from datetime import datetime, timedelta, timezone\n",
    "\n",
    "jst = timezone(timedelta(hours=+9), 'JST')\n",
    "\n",
    "dtm_str = \"2019-05-25 09:41:36\"\n",
    "dtm = datetime.strptime(dtm_str, \"%Y-%m-%d %H:%M:%S\")\n",
    "\n",
    "print(dtm)\n",
    "print(dtm + timedelta(weeks=1))"
   ]
  },
  {
   "cell_type": "code",
   "execution_count": null,
   "metadata": {},
   "outputs": [],
   "source": [
    "from urllib import request\n",
    "\n",
    "response = request.urlopen('https://google.com/')  # 指定のURL開く\n",
    "print(response.read().decode())  # readでHTML構造確認、decodeでHTMLの整形\n",
    "response.close()  # リクエストの処理終了"
   ]
  },
  {
   "cell_type": "code",
   "execution_count": null,
   "metadata": {},
   "outputs": [],
   "source": [
    "import pdb\n",
    "\n",
    "print(4 + 0)\n",
    "pdb.set_trace()  # ブイレクポイント\n",
    "print(4 - 0)\n",
    "pdb.set_trace()\n",
    "print(4 * 0)\n",
    "pdb.set_trace()\n",
    "print(4 / 0)\n",
    "pdb.set_trace()\n",
    "print(4 ** 0)"
   ]
  },
  {
   "cell_type": "code",
   "execution_count": 9,
   "metadata": {},
   "outputs": [
    {
     "name": "stdout",
     "output_type": "stream",
     "text": [
      "4\n",
      "4\n",
      "0\n"
     ]
    },
    {
     "ename": "ZeroDivisionError",
     "evalue": "division by zero",
     "output_type": "error",
     "traceback": [
      "\u001b[0;31m---------------------------------------------------------------------------\u001b[0m",
      "\u001b[0;31mZeroDivisionError\u001b[0m                         Traceback (most recent call last)",
      "\u001b[0;32m<ipython-input-9-93d7e756c9cd>\u001b[0m in \u001b[0;36m<module>\u001b[0;34m\u001b[0m\n\u001b[1;32m      2\u001b[0m \u001b[0mprint\u001b[0m\u001b[0;34m(\u001b[0m\u001b[0;36m4\u001b[0m \u001b[0;34m-\u001b[0m \u001b[0;36m0\u001b[0m\u001b[0;34m)\u001b[0m\u001b[0;34m\u001b[0m\u001b[0;34m\u001b[0m\u001b[0m\n\u001b[1;32m      3\u001b[0m \u001b[0mprint\u001b[0m\u001b[0;34m(\u001b[0m\u001b[0;36m4\u001b[0m \u001b[0;34m*\u001b[0m \u001b[0;36m0\u001b[0m\u001b[0;34m)\u001b[0m\u001b[0;34m\u001b[0m\u001b[0;34m\u001b[0m\u001b[0m\n\u001b[0;32m----> 4\u001b[0;31m \u001b[0mprint\u001b[0m\u001b[0;34m(\u001b[0m\u001b[0;36m4\u001b[0m \u001b[0;34m/\u001b[0m \u001b[0;36m0\u001b[0m\u001b[0;34m)\u001b[0m\u001b[0;34m\u001b[0m\u001b[0;34m\u001b[0m\u001b[0m\n\u001b[0m\u001b[1;32m      5\u001b[0m \u001b[0mprint\u001b[0m\u001b[0;34m(\u001b[0m\u001b[0;36m4\u001b[0m \u001b[0;34m**\u001b[0m \u001b[0;36m0\u001b[0m\u001b[0;34m)\u001b[0m\u001b[0;34m\u001b[0m\u001b[0;34m\u001b[0m\u001b[0m\n",
      "\u001b[0;31mZeroDivisionError\u001b[0m: division by zero"
     ]
    },
    {
     "name": "stdout",
     "output_type": "stream",
     "text": [
      "> \u001b[0;32m<ipython-input-9-93d7e756c9cd>\u001b[0m(4)\u001b[0;36m<module>\u001b[0;34m()\u001b[0m\n",
      "\u001b[0;32m      1 \u001b[0;31m\u001b[0mprint\u001b[0m\u001b[0;34m(\u001b[0m\u001b[0;36m4\u001b[0m \u001b[0;34m+\u001b[0m \u001b[0;36m0\u001b[0m\u001b[0;34m)\u001b[0m\u001b[0;34m\u001b[0m\u001b[0;34m\u001b[0m\u001b[0m\n",
      "\u001b[0m\u001b[0;32m      2 \u001b[0;31m\u001b[0mprint\u001b[0m\u001b[0;34m(\u001b[0m\u001b[0;36m4\u001b[0m \u001b[0;34m-\u001b[0m \u001b[0;36m0\u001b[0m\u001b[0;34m)\u001b[0m\u001b[0;34m\u001b[0m\u001b[0;34m\u001b[0m\u001b[0m\n",
      "\u001b[0m\u001b[0;32m      3 \u001b[0;31m\u001b[0mprint\u001b[0m\u001b[0;34m(\u001b[0m\u001b[0;36m4\u001b[0m \u001b[0;34m*\u001b[0m \u001b[0;36m0\u001b[0m\u001b[0;34m)\u001b[0m\u001b[0;34m\u001b[0m\u001b[0;34m\u001b[0m\u001b[0m\n",
      "\u001b[0m\u001b[0;32m----> 4 \u001b[0;31m\u001b[0mprint\u001b[0m\u001b[0;34m(\u001b[0m\u001b[0;36m4\u001b[0m \u001b[0;34m/\u001b[0m \u001b[0;36m0\u001b[0m\u001b[0;34m)\u001b[0m\u001b[0;34m\u001b[0m\u001b[0;34m\u001b[0m\u001b[0m\n",
      "\u001b[0m\u001b[0;32m      5 \u001b[0;31m\u001b[0mprint\u001b[0m\u001b[0;34m(\u001b[0m\u001b[0;36m4\u001b[0m \u001b[0;34m**\u001b[0m \u001b[0;36m0\u001b[0m\u001b[0;34m)\u001b[0m\u001b[0;34m\u001b[0m\u001b[0;34m\u001b[0m\u001b[0m\n",
      "\u001b[0m\n"
     ]
    },
    {
     "name": "stdin",
     "output_type": "stream",
     "text": [
      "ipdb>  c\n"
     ]
    }
   ],
   "source": [
    "print(4 + 0)\n",
    "print(4 - 0)\n",
    "print(4 * 0)\n",
    "print(4 / 0)\n",
    "print(4 ** 0)"
   ]
  },
  {
   "cell_type": "code",
   "execution_count": 7,
   "metadata": {},
   "outputs": [
    {
     "name": "stdout",
     "output_type": "stream",
     "text": [
      "> \u001b[0;32m<ipython-input-6-93d7e756c9cd>\u001b[0m(4)\u001b[0;36m<module>\u001b[0;34m()\u001b[0m\n",
      "\u001b[0;32m      1 \u001b[0;31m\u001b[0mprint\u001b[0m\u001b[0;34m(\u001b[0m\u001b[0;36m4\u001b[0m \u001b[0;34m+\u001b[0m \u001b[0;36m0\u001b[0m\u001b[0;34m)\u001b[0m\u001b[0;34m\u001b[0m\u001b[0;34m\u001b[0m\u001b[0m\n",
      "\u001b[0m\u001b[0;32m      2 \u001b[0;31m\u001b[0mprint\u001b[0m\u001b[0;34m(\u001b[0m\u001b[0;36m4\u001b[0m \u001b[0;34m-\u001b[0m \u001b[0;36m0\u001b[0m\u001b[0;34m)\u001b[0m\u001b[0;34m\u001b[0m\u001b[0;34m\u001b[0m\u001b[0m\n",
      "\u001b[0m\u001b[0;32m      3 \u001b[0;31m\u001b[0mprint\u001b[0m\u001b[0;34m(\u001b[0m\u001b[0;36m4\u001b[0m \u001b[0;34m*\u001b[0m \u001b[0;36m0\u001b[0m\u001b[0;34m)\u001b[0m\u001b[0;34m\u001b[0m\u001b[0;34m\u001b[0m\u001b[0m\n",
      "\u001b[0m\u001b[0;32m----> 4 \u001b[0;31m\u001b[0mprint\u001b[0m\u001b[0;34m(\u001b[0m\u001b[0;36m4\u001b[0m \u001b[0;34m/\u001b[0m \u001b[0;36m0\u001b[0m\u001b[0;34m)\u001b[0m\u001b[0;34m\u001b[0m\u001b[0;34m\u001b[0m\u001b[0m\n",
      "\u001b[0m\u001b[0;32m      5 \u001b[0;31m\u001b[0mprint\u001b[0m\u001b[0;34m(\u001b[0m\u001b[0;36m4\u001b[0m \u001b[0;34m**\u001b[0m \u001b[0;36m0\u001b[0m\u001b[0;34m)\u001b[0m\u001b[0;34m\u001b[0m\u001b[0;34m\u001b[0m\u001b[0m\n",
      "\u001b[0m\n"
     ]
    },
    {
     "name": "stdin",
     "output_type": "stream",
     "text": [
      "ipdb>  c\n"
     ]
    }
   ],
   "source": [
    "%debug"
   ]
  },
  {
   "cell_type": "code",
   "execution_count": 8,
   "metadata": {},
   "outputs": [
    {
     "name": "stdout",
     "output_type": "stream",
     "text": [
      "Automatic pdb calling has been turned ON\n"
     ]
    }
   ],
   "source": [
    "%pdb on"
   ]
  },
  {
   "cell_type": "code",
   "execution_count": 10,
   "metadata": {},
   "outputs": [
    {
     "name": "stdout",
     "output_type": "stream",
     "text": [
      "Automatic pdb calling has been turned OFF\n"
     ]
    }
   ],
   "source": [
    "%pdb off"
   ]
  },
  {
   "cell_type": "code",
   "execution_count": null,
   "metadata": {},
   "outputs": [],
   "source": []
  }
 ],
 "metadata": {
  "kernelspec": {
   "display_name": "Python 3",
   "language": "python",
   "name": "python3"
  },
  "language_info": {
   "codemirror_mode": {
    "name": "ipython",
    "version": 3
   },
   "file_extension": ".py",
   "mimetype": "text/x-python",
   "name": "python",
   "nbconvert_exporter": "python",
   "pygments_lexer": "ipython3",
   "version": "3.8.3"
  }
 },
 "nbformat": 4,
 "nbformat_minor": 4
}
