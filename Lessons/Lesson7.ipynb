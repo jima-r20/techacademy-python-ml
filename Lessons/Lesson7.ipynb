{
 "cells": [
  {
   "cell_type": "code",
   "execution_count": 4,
   "metadata": {},
   "outputs": [
    {
     "name": "stdout",
     "output_type": "stream",
     "text": [
      "{1, 2, 3, 4, 5, 6, 7}\n",
      "{'peach', 'apple', 'orange', 'banana'}\n",
      "{}\n",
      "{1, 4, 7, 'huga', 'bar', 'hoge'}\n",
      "---------\n",
      "<class 'set'>\n",
      "<class 'set'>\n",
      "<class 'dict'>\n",
      "{'peach', 'apple', 'orange', 'banana'}\n"
     ]
    }
   ],
   "source": [
    "# セット\n",
    "a = {2, 5, 7, 1, 3, 6, 4}\n",
    "b = {\"apple\", \"banana\", \"orange\", \"peach\"}\n",
    "c = {}\n",
    "d = {1, \"hoge\", 4, \"huga\", \"bar\", 7}\n",
    "\n",
    "print(a)\n",
    "print(b)\n",
    "print(c)\n",
    "print(d)\n",
    "\n",
    "print(\"---------\")\n",
    "\n",
    "print(type(a))\n",
    "print(type(b))\n",
    "print(type(c))\n",
    "\n",
    "b = {\"apple\", \"banana\", \"orange\", \"peach\", \"banana\", \"peach\"}\n",
    "print(b)"
   ]
  },
  {
   "cell_type": "code",
   "execution_count": 5,
   "metadata": {},
   "outputs": [
    {
     "name": "stdout",
     "output_type": "stream",
     "text": [
      "{'A', 'e', 'c', 'h', 'a', 'y', 'd', 'm', 'T'}\n",
      "{1, 3, 5, 7, 9}\n",
      "set()\n"
     ]
    }
   ],
   "source": [
    "# セット\n",
    "e = set(\"TechAcademy\")\n",
    "f = set(range(1, 11, 2))\n",
    "g = set()\n",
    "\n",
    "print(e)\n",
    "print(f)\n",
    "print(g)"
   ]
  },
  {
   "cell_type": "code",
   "execution_count": 7,
   "metadata": {},
   "outputs": [
    {
     "name": "stdout",
     "output_type": "stream",
     "text": [
      "{0, 2, 4, 6, 8, 10, 12, 14, 16, 18, 20}\n"
     ]
    }
   ],
   "source": [
    "# セット\n",
    "nums_d = {num * 2 for num in range(0, 11)}\n",
    "print(nums_d)"
   ]
  },
  {
   "cell_type": "code",
   "execution_count": 10,
   "metadata": {},
   "outputs": [
    {
     "name": "stdout",
     "output_type": "stream",
     "text": [
      "{'baseball'}\n",
      "{'soccer', 'baseball'}\n",
      "{'soccer', 'baseball'}\n",
      "---------\n",
      "soccer\n",
      "{'baseball'}\n"
     ]
    }
   ],
   "source": [
    "# セット\n",
    "# 要素の新規登録\n",
    "sports = set()\n",
    "sports.add(\"baseball\")\n",
    "print(sports)\n",
    "sports.add(\"soccer\")\n",
    "print(sports)\n",
    "sports.add(\"soccer\")\n",
    "print(sports)\n",
    "print(\"---------\")\n",
    "\n",
    "# 要素の参照\n",
    "s = sports.pop()\n",
    "print(s)\n",
    "print(sports)"
   ]
  },
  {
   "cell_type": "code",
   "execution_count": 19,
   "metadata": {},
   "outputs": [
    {
     "name": "stdout",
     "output_type": "stream",
     "text": [
      "{'soccer', 'golf', 'baseball', 'volleyball'}\n",
      "{'soccer', 'baseball', 'volleyball'}\n",
      "{'soccer', 'baseball', 'volleyball'}\n",
      "True\n",
      "False\n",
      "<class 'frozenset'>\n"
     ]
    }
   ],
   "source": [
    "# セット\n",
    "# 要素の削除\n",
    "sports = set()\n",
    "sports.add(\"baseball\")\n",
    "sports.add(\"soccer\")\n",
    "sports.add(\"golf\")\n",
    "sports.add(\"volleyball\")\n",
    "sports.add(\"golf\")\n",
    "print(sports)\n",
    "\n",
    "sports.remove(\"golf\")\n",
    "print(sports)\n",
    "\n",
    "# 以下を実行するとエラーが返ってくる\n",
    "# sports.remove(\"golf\")\n",
    "# print(sports)\n",
    "\n",
    "# 要素の検索\n",
    "print(sports)\n",
    "print(\"baseball\" in sports)\n",
    "print(\"tennis\" in sports)\n",
    "\n",
    "# 変更不可のセット\n",
    "sports = frozenset(sports)\n",
    "sports.add(\"golf\")\n",
    "print(type(sports))"
   ]
  },
  {
   "cell_type": "code",
   "execution_count": 9,
   "metadata": {},
   "outputs": [
    {
     "name": "stdout",
     "output_type": "stream",
     "text": [
      "{'apple', 'grape', 'banana', 'peach', 'orange'}\n",
      "{'orange'}\n",
      "{'apple', 'banana'}\n",
      "{'apple', 'grape', 'banana', 'peach'}\n"
     ]
    }
   ],
   "source": [
    "# セットの集合演算\n",
    "# 和集合\n",
    "f1 = {\"apple\", \"banana\", \"orange\"}\n",
    "f2 = {\"peach\", \"orange\", \"grape\"}\n",
    "# f3 = f1 | f2\n",
    "f3 = f1.union(f2)\n",
    "print(f3)\n",
    "\n",
    "# 積集合\n",
    "# f4 = f1 & f2\n",
    "f4 = f1.intersection(f2)\n",
    "print(f4)\n",
    "\n",
    "# 差集合\n",
    "# f5 = f1 - f2\n",
    "f5 = f1.difference(f2)\n",
    "print(f5)\n",
    "\n",
    "# 対象差集合\n",
    "# f6 = f1 ^ f2\n",
    "f6 = f1.symmetric_difference(f2)\n",
    "print(f6)"
   ]
  },
  {
   "cell_type": "code",
   "execution_count": 11,
   "metadata": {},
   "outputs": [
    {
     "name": "stdout",
     "output_type": "stream",
     "text": [
      "{'apple', 'grape', 'banana', 'peach', 'orange'}\n"
     ]
    }
   ],
   "source": [
    "# セットの集合演算\n",
    "# 破壊的な集合演算\n",
    "f01 = {\"apple\", \"banana\", \"orange\"}\n",
    "f02 = {\"peach\", \"orange\", \"grape\"}\n",
    "# f01.update(f02)\n",
    "f01 |= f02\n",
    "print(f01)"
   ]
  },
  {
   "cell_type": "code",
   "execution_count": 15,
   "metadata": {},
   "outputs": [
    {
     "name": "stdout",
     "output_type": "stream",
     "text": [
      "False\n",
      "True\n",
      "True\n"
     ]
    }
   ],
   "source": [
    "# セットの集合演算\n",
    "# 共通した要素の有無を調べる\n",
    "f1 = {\"apple\", \"banana\", \"orange\"}\n",
    "f2 = {\"peach\", \"orange\", \"grape\"}\n",
    "print(f1.isdisjoint(f2))\n",
    "\n",
    "# 部分集合\n",
    "a = {\"apple\", \"banana\"}\n",
    "b = {\"apple\", \"banana\", \"orange\", \"peach\", \"grape\"}\n",
    "print(a.issubset(b))  # aがbに完全に含まれているか\n",
    "print(b.issuperset(a))  # bがaを完全に含んでいるか"
   ]
  },
  {
   "cell_type": "code",
   "execution_count": 24,
   "metadata": {},
   "outputs": [
    {
     "name": "stdout",
     "output_type": "stream",
     "text": [
      "140394033935472\n",
      "140394033935472\n",
      "140394049767104\n",
      "140394058501824\n",
      "{(0, 1, 0)}\n",
      "7619408953831620358\n",
      "7619408953831620358\n",
      "True\n",
      "False\n"
     ]
    }
   ],
   "source": [
    "# Pythonがデータを識別する仕組み\n",
    "# オブジェクトのID\n",
    "s1 = \"abcde\"\n",
    "s2 = \"abcde\"\n",
    "print(id(s1))\n",
    "print(id(s2))  # 中身が同じ場合には同じIDになる\n",
    "\n",
    "t1 = (0, 1, 0)\n",
    "t2 = (0, 1, 0)\n",
    "print(id(t1))\n",
    "print(id(t2))\n",
    "t = {t1, t2}\n",
    "print(t)\n",
    "\n",
    "# ハッシュ値\n",
    "print(hash(t1))\n",
    "print(hash(t2))  # タプルのIDは異なるが、中身が同じ場合はハッシュ値は同じになる\n",
    "\n",
    "# ==とis\n",
    "print(t1 == t2)  # ==はハッシュ値を比較している\n",
    "print(t1 is t2)  # isはオブジェクトのIDを比較している"
   ]
  },
  {
   "cell_type": "code",
   "execution_count": 5,
   "metadata": {},
   "outputs": [
    {
     "name": "stdout",
     "output_type": "stream",
     "text": [
      "{'first_name': 'Taro', 'last_name': 'Tanaka', 'age': 25, 'is_male': True, 'tel_no': '090-1234-5678'}\n",
      "{'foo': 3, 'bar': 5, 'hoge': 7}\n",
      "{1: 10, 3: 30, 5: 50, 7: 70}\n",
      "{(2018, 5, 1): 28, (2018, 5, 2): 25, (2018, 5, 3): 27, (2018, 5, 4): 24}\n"
     ]
    }
   ],
   "source": [
    "# 辞書\n",
    "contact = {\"first_name\": \"Taro\", \"last_name\": \"Tanaka\", \"age\": 25, \"is_male\": True, \"tel_no\": \"090-1234-5678\"}\n",
    "print(contact)\n",
    "\n",
    "d = {\"foo\": 1, \"foo\": 3, \"bar\": 5, \"hoge\": 7}\n",
    "print(d)\n",
    "\n",
    "nums = {1: 10, 3: 30, 5: 50, 7: 70}\n",
    "print(nums)\n",
    "\n",
    "high_degree = {(2018, 5, 1): 28, (2018, 5 ,2): 25, (2018, 5, 3): 27, (2018, 5, 4): 24}\n",
    "print(high_degree)"
   ]
  },
  {
   "cell_type": "code",
   "execution_count": 10,
   "metadata": {},
   "outputs": [
    {
     "name": "stdout",
     "output_type": "stream",
     "text": [
      "{'foo': 3, 'bar': 5, 'hoge': 7}\n",
      "{'foo': 3, 'bar': 5, 'hoge': 7}\n",
      "{'foo': 3, 'bar': 5, 'hoge': 7}\n"
     ]
    }
   ],
   "source": [
    "# 辞書\n",
    "# dict()\n",
    "\n",
    "# タプルを複数もつリストから作成する\n",
    "d1 = dict( [(\"foo\", 3), (\"bar\", 5), (\"hoge\", 7)] )\n",
    "print(d1)\n",
    "\n",
    "# zip()から作る\n",
    "keys = [\"foo\", \"bar\", \"hoge\"]\n",
    "values = [3, 5, 7]\n",
    "d2 = dict( zip(keys, values) )\n",
    "print(d2)\n",
    "\n",
    "# キー = 値　という記述から作る\n",
    "d3 = dict(foo = 3, bar = 5, hoge = 7)\n",
    "print(d3)"
   ]
  },
  {
   "cell_type": "code",
   "execution_count": 13,
   "metadata": {},
   "outputs": [
    {
     "name": "stdout",
     "output_type": "stream",
     "text": [
      "{0: 0, 1: 2, 2: 4, 3: 6, 4: 8, 5: 10}\n",
      "{'p': 0, 'y': 0, 't': 0, 'h': 0, 'o': 0, 'n': 0}\n"
     ]
    }
   ],
   "source": [
    "# 辞書\n",
    "# 内包表記で作成\n",
    "nums = {i: i*2 for i in range(6)}\n",
    "print(nums)\n",
    "\n",
    "# dict.fromkeys()\n",
    "char_count = dict.fromkeys(list(\"python\"), 0)\n",
    "print(char_count)"
   ]
  },
  {
   "cell_type": "code",
   "execution_count": 20,
   "metadata": {},
   "outputs": [
    {
     "name": "stdout",
     "output_type": "stream",
     "text": [
      "{'Hokkaido': 1, 'Aomori': 2, 'Tokyo': 13, 'Osaka': 27}\n",
      "13\n",
      "1\n",
      "None\n",
      "25\n",
      "1\n",
      "{'Aomori': 2, 'Tokyo': 13, 'Osaka': 27}\n",
      "True\n",
      "False\n",
      "dict_keys(['Aomori', 'Tokyo', 'Osaka'])\n",
      "dict_values([2, 13, 27])\n",
      "dict_items([('Aomori', 2), ('Tokyo', 13), ('Osaka', 27)])\n"
     ]
    }
   ],
   "source": [
    "# 辞書を使う\n",
    "# 追加と更新と参照\n",
    "pref_code = {}\n",
    "pref_code[\"Hokkaido\"] = 1\n",
    "pref_code[\"Aomori\"] = 2\n",
    "pref_code[\"Tokyo\"] = 12\n",
    "pref_code[\"Tokyo\"] = 13\n",
    "pref_code[\"Osaka\"] = 27\n",
    "print(pref_code)\n",
    "print(pref_code[\"Tokyo\"])\n",
    "# print(pref_code[\"Fukuoka\"])\n",
    "\n",
    "print(pref_code.get(\"Hokkaido\"))\n",
    "print(pref_code.get(\"Okinawa\"))\n",
    "\n",
    "high_degree = {(2018, 5, 1): 28, (2018, 5, 2): 25, (2018, 5, 3): 27, (2018, 5, 4): 24}\n",
    "print(high_degree[(2018, 5, 2)])\n",
    "\n",
    "# 要素の削除\n",
    "print(pref_code.pop(\"Hokkaido\"))\n",
    "print(pref_code)\n",
    "\n",
    "# 要素の検索\n",
    "print(\"Tokyo\" in pref_code)\n",
    "print(\"Fukuoka\" in  pref_code)\n",
    "\n",
    "# 辞書と繰り返し処理\n",
    "print(pref_code.keys())\n",
    "print(pref_code.values())\n",
    "print(pref_code.items())"
   ]
  },
  {
   "cell_type": "code",
   "execution_count": 21,
   "metadata": {},
   "outputs": [
    {
     "name": "stdout",
     "output_type": "stream",
     "text": [
      "Hokkaido\n",
      "Aomori\n",
      "Tokyo\n",
      "Osaka\n",
      "1\n",
      "2\n",
      "13\n",
      "27\n",
      "Hokkaido : 1\n",
      "Aomori : 2\n",
      "Tokyo : 13\n",
      "Osaka : 27\n"
     ]
    }
   ],
   "source": [
    "# 辞書\n",
    "# dict\n",
    "pref_code = {\"Hokkaido\": 1, \"Aomori\": 2, \"Tokyo\": 13, \"Osaka\": 27}\n",
    "\n",
    "# keys\n",
    "for code in pref_code.keys():\n",
    "    print(code)\n",
    "    \n",
    "# values\n",
    "for value in pref_code.values():\n",
    "    print(value)\n",
    "\n",
    "# items\n",
    "for key, value in pref_code.items():\n",
    "    print(f\"{key} : {value}\")"
   ]
  },
  {
   "cell_type": "code",
   "execution_count": null,
   "metadata": {},
   "outputs": [],
   "source": []
  }
 ],
 "metadata": {
  "kernelspec": {
   "display_name": "Python 3",
   "language": "python",
   "name": "python3"
  },
  "language_info": {
   "codemirror_mode": {
    "name": "ipython",
    "version": 3
   },
   "file_extension": ".py",
   "mimetype": "text/x-python",
   "name": "python",
   "nbconvert_exporter": "python",
   "pygments_lexer": "ipython3",
   "version": "3.8.3"
  }
 },
 "nbformat": 4,
 "nbformat_minor": 4
}
