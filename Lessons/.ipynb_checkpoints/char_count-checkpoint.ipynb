{
 "cells": [
  {
   "cell_type": "code",
   "execution_count": 20,
   "metadata": {},
   "outputs": [
    {
     "name": "stdin",
     "output_type": "stream",
     "text": [
      "英単語を入力してください： dog\n",
      "英単語を入力してください： cat\n",
      "英単語を入力してください： giraffe\n",
      "英単語を入力してください： kangaroo\n",
      "英単語を入力してください： horse\n",
      "英単語を入力してください： bear\n",
      "英単語を入力してください： \n"
     ]
    },
    {
     "name": "stdout",
     "output_type": "stream",
     "text": [
      "入力した英単語：['bear', 'cat', 'dog', 'giraffe', 'horse', 'kangaroo']\n",
      "aが5個ありました\n",
      "bが1個ありました\n",
      "cが1個ありました\n",
      "dが1個ありました\n",
      "eが3個ありました\n",
      "fが2個ありました\n",
      "gが3個ありました\n",
      "hが1個ありました\n",
      "iが1個ありました\n",
      "kが1個ありました\n",
      "nが1個ありました\n",
      "oが4個ありました\n",
      "rが4個ありました\n",
      "sが1個ありました\n",
      "tが1個ありました\n"
     ]
    }
   ],
   "source": [
    "char_count = dict.fromkeys(list(\"abcdefghijklmnopqrstuvwxyz\"), 0)\n",
    "words = []\n",
    "\n",
    "# 英単語の入力\n",
    "while True:\n",
    "    word = input(\"英単語を入力してください：\")\n",
    "    \n",
    "    # 未入力の場合、入力の受付を終了\n",
    "    if word == \"\":\n",
    "        break\n",
    "        \n",
    "    words.append(word)\n",
    "    \n",
    "    # 入力された英単語から文字カウント\n",
    "    for key in char_count.keys():\n",
    "        char_count[key] += word.count(key)\n",
    "\n",
    "# 入力された英単語の並び替え\n",
    "words.sort()\n",
    "print(f\"入力した英単語：{words}\")\n",
    "\n",
    "# １文字以上あった文字について表示\n",
    "for key, value in char_count.items():\n",
    "    if value != 0:\n",
    "        print(f\"{key}が{value}個ありました\")"
   ]
  },
  {
   "cell_type": "code",
   "execution_count": null,
   "metadata": {},
   "outputs": [],
   "source": []
  },
  {
   "cell_type": "code",
   "execution_count": null,
   "metadata": {},
   "outputs": [],
   "source": []
  }
 ],
 "metadata": {
  "kernelspec": {
   "display_name": "Python 3",
   "language": "python",
   "name": "python3"
  },
  "language_info": {
   "codemirror_mode": {
    "name": "ipython",
    "version": 3
   },
   "file_extension": ".py",
   "mimetype": "text/x-python",
   "name": "python",
   "nbconvert_exporter": "python",
   "pygments_lexer": "ipython3",
   "version": "3.8.3"
  }
 },
 "nbformat": 4,
 "nbformat_minor": 4
}
