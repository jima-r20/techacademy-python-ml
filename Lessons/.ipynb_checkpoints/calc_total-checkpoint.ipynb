{
 "cells": [
  {
   "cell_type": "code",
   "execution_count": 8,
   "metadata": {},
   "outputs": [
    {
     "name": "stdin",
     "output_type": "stream",
     "text": [
      "税抜価格を入力してください： 1800\n"
     ]
    },
    {
     "name": "stdout",
     "output_type": "stream",
     "text": [
      "送料として350円かかります\n",
      "送料込みの価格は2330円です。\n"
     ]
    }
   ],
   "source": [
    "price = int(input(\"税抜価格を入力してください：\"))\n",
    "price_with_tax = int(price * 1.1)\n",
    "shipping_fee = 350\n",
    "\n",
    "if price_with_tax >= 2000:\n",
    "    print(\"送料は無料です\")\n",
    "    total_price = price_with_tax\n",
    "\n",
    "else:\n",
    "    print(f\"送料として{shipping_fee}円かかります\")\n",
    "    total_price = price_with_tax + shipping_fee\n",
    "    \n",
    "print(f\"送料込みの価格は{total_price}円です。\")"
   ]
  },
  {
   "cell_type": "code",
   "execution_count": null,
   "metadata": {},
   "outputs": [],
   "source": []
  }
 ],
 "metadata": {
  "kernelspec": {
   "display_name": "Python 3",
   "language": "python",
   "name": "python3"
  },
  "language_info": {
   "codemirror_mode": {
    "name": "ipython",
    "version": 3
   },
   "file_extension": ".py",
   "mimetype": "text/x-python",
   "name": "python",
   "nbconvert_exporter": "python",
   "pygments_lexer": "ipython3",
   "version": "3.8.3"
  }
 },
 "nbformat": 4,
 "nbformat_minor": 4
}
