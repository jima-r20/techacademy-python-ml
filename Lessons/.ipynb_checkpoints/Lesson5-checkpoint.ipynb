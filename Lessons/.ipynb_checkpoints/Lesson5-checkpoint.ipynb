{
 "cells": [
  {
   "cell_type": "code",
   "execution_count": 16,
   "metadata": {},
   "outputs": [
    {
     "name": "stdin",
     "output_type": "stream",
     "text": [
      "点数を入力してください： 44\n"
     ]
    },
    {
     "name": "stdout",
     "output_type": "stream",
     "text": [
      "不合格です\n",
      "もっと頑張りましょう\n",
      "処理を終了します\n"
     ]
    }
   ],
   "source": [
    "score = int(input(\"点数を入力してください：\"))\n",
    "\n",
    "if score >= 90:\n",
    "    print(\"優秀です\")\n",
    "    print(\"大変よくできました！！\")\n",
    "    \n",
    "elif score >= 60:\n",
    "    print(\"合格です\")\n",
    "    print(\"おめでとうございます！\")\n",
    "    \n",
    "else:\n",
    "    print(\"不合格です\")\n",
    "    print(\"もっと頑張りましょう\")\n",
    "\n",
    "print(\"処理を終了します\")"
   ]
  },
  {
   "cell_type": "code",
   "execution_count": 17,
   "metadata": {},
   "outputs": [
    {
     "name": "stdout",
     "output_type": "stream",
     "text": [
      "1\n",
      "2\n",
      "3\n",
      "4\n",
      "5\n",
      "6\n",
      "7\n",
      "8\n",
      "9\n",
      "10\n",
      "処理を終了します\n"
     ]
    }
   ],
   "source": [
    "i = 0\n",
    "\n",
    "while i < 10:\n",
    "    i += 1\n",
    "    print(i)\n",
    "    \n",
    "print(\"処理を終了します\")"
   ]
  },
  {
   "cell_type": "code",
   "execution_count": 19,
   "metadata": {},
   "outputs": [
    {
     "name": "stdout",
     "output_type": "stream",
     "text": [
      "2\n",
      "4\n",
      "6\n",
      "8\n",
      "10\n",
      "処理を終了します\n"
     ]
    }
   ],
   "source": [
    "i = 0\n",
    "\n",
    "while True:\n",
    "    i += 1\n",
    "    \n",
    "    if i > 10:\n",
    "        break\n",
    "        \n",
    "    if i % 2 == 1:\n",
    "        continue\n",
    "        \n",
    "    print(i)\n",
    "    \n",
    "print(\"処理を終了します\")"
   ]
  },
  {
   "cell_type": "code",
   "execution_count": 25,
   "metadata": {},
   "outputs": [
    {
     "name": "stdout",
     "output_type": "stream",
     "text": [
      "2\n",
      "4\n",
      "6\n",
      "8\n",
      "10\n"
     ]
    }
   ],
   "source": [
    "for i in range(2, 11, 2):\n",
    "    print(i)"
   ]
  },
  {
   "cell_type": "code",
   "execution_count": 26,
   "metadata": {},
   "outputs": [
    {
     "name": "stdout",
     "output_type": "stream",
     "text": [
      "10\n",
      "8\n",
      "6\n",
      "4\n",
      "2\n"
     ]
    }
   ],
   "source": [
    "for i in range(10, 0, -2):\n",
    "    print(i)"
   ]
  },
  {
   "cell_type": "code",
   "execution_count": 28,
   "metadata": {},
   "outputs": [
    {
     "name": "stdout",
     "output_type": "stream",
     "text": [
      "0 + 0 = 0\n",
      "0 + 1 = 1\n",
      "0 + 2 = 2\n",
      "0 + 3 = 3\n",
      "0 + 4 = 4\n",
      "0 + 5 = 5\n",
      "0 + 6 = 6\n",
      "0 + 7 = 7\n",
      "0 + 8 = 8\n",
      "0 + 9 = 9\n",
      "0 + 10 = 10\n",
      "1 + 0 = 1\n",
      "1 + 1 = 2\n",
      "1 + 2 = 3\n",
      "1 + 3 = 4\n",
      "1 + 4 = 5\n",
      "1 + 5 = 6\n",
      "1 + 6 = 7\n",
      "1 + 7 = 8\n",
      "1 + 8 = 9\n",
      "1 + 9 = 10\n",
      "1 + 10 = 11\n",
      "2 + 0 = 2\n",
      "2 + 1 = 3\n",
      "2 + 2 = 4\n",
      "2 + 3 = 5\n",
      "2 + 4 = 6\n",
      "2 + 5 = 7\n",
      "2 + 6 = 8\n",
      "2 + 7 = 9\n",
      "2 + 8 = 10\n",
      "2 + 9 = 11\n",
      "2 + 10 = 12\n",
      "3 + 0 = 3\n",
      "3 + 1 = 4\n",
      "3 + 2 = 5\n",
      "3 + 3 = 6\n",
      "3 + 4 = 7\n",
      "3 + 5 = 8\n",
      "3 + 6 = 9\n",
      "3 + 7 = 10\n",
      "3 + 8 = 11\n",
      "3 + 9 = 12\n",
      "3 + 10 = 13\n",
      "4 + 0 = 4\n",
      "4 + 1 = 5\n",
      "4 + 2 = 6\n",
      "4 + 3 = 7\n",
      "4 + 4 = 8\n",
      "4 + 5 = 9\n",
      "4 + 6 = 10\n",
      "4 + 7 = 11\n",
      "4 + 8 = 12\n",
      "4 + 9 = 13\n",
      "4 + 10 = 14\n",
      "5 + 0 = 5\n",
      "5 + 1 = 6\n",
      "5 + 2 = 7\n",
      "5 + 3 = 8\n",
      "5 + 4 = 9\n",
      "5 + 5 = 10\n",
      "5 + 6 = 11\n",
      "5 + 7 = 12\n",
      "5 + 8 = 13\n",
      "5 + 9 = 14\n",
      "5 + 10 = 15\n",
      "6 + 0 = 6\n",
      "6 + 1 = 7\n",
      "6 + 2 = 8\n",
      "6 + 3 = 9\n",
      "6 + 4 = 10\n",
      "6 + 5 = 11\n",
      "6 + 6 = 12\n",
      "6 + 7 = 13\n",
      "6 + 8 = 14\n",
      "6 + 9 = 15\n",
      "6 + 10 = 16\n",
      "7 + 0 = 7\n",
      "7 + 1 = 8\n",
      "7 + 2 = 9\n",
      "7 + 3 = 10\n",
      "7 + 4 = 11\n",
      "7 + 5 = 12\n",
      "7 + 6 = 13\n",
      "7 + 7 = 14\n",
      "7 + 8 = 15\n",
      "7 + 9 = 16\n",
      "7 + 10 = 17\n",
      "8 + 0 = 8\n",
      "8 + 1 = 9\n",
      "8 + 2 = 10\n",
      "8 + 3 = 11\n",
      "8 + 4 = 12\n",
      "8 + 5 = 13\n",
      "8 + 6 = 14\n",
      "8 + 7 = 15\n",
      "8 + 8 = 16\n",
      "8 + 9 = 17\n",
      "8 + 10 = 18\n",
      "9 + 0 = 9\n",
      "9 + 1 = 10\n",
      "9 + 2 = 11\n",
      "9 + 3 = 12\n",
      "9 + 4 = 13\n",
      "9 + 5 = 14\n",
      "9 + 6 = 15\n",
      "9 + 7 = 16\n",
      "9 + 8 = 17\n",
      "9 + 9 = 18\n",
      "9 + 10 = 19\n",
      "10 + 0 = 10\n",
      "10 + 1 = 11\n",
      "10 + 2 = 12\n",
      "10 + 3 = 13\n",
      "10 + 4 = 14\n",
      "10 + 5 = 15\n",
      "10 + 6 = 16\n",
      "10 + 7 = 17\n",
      "10 + 8 = 18\n",
      "10 + 9 = 19\n",
      "10 + 10 = 20\n"
     ]
    }
   ],
   "source": [
    "for i in range(11):\n",
    "    for j in range(11):\n",
    "        print(f\"{i} + {j} = {i + j}\")"
   ]
  },
  {
   "cell_type": "code",
   "execution_count": null,
   "metadata": {},
   "outputs": [],
   "source": []
  }
 ],
 "metadata": {
  "kernelspec": {
   "display_name": "Python 3",
   "language": "python",
   "name": "python3"
  },
  "language_info": {
   "codemirror_mode": {
    "name": "ipython",
    "version": 3
   },
   "file_extension": ".py",
   "mimetype": "text/x-python",
   "name": "python",
   "nbconvert_exporter": "python",
   "pygments_lexer": "ipython3",
   "version": "3.8.3"
  }
 },
 "nbformat": 4,
 "nbformat_minor": 4
}
