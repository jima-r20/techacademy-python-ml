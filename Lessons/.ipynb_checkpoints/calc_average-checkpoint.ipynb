{
 "cells": [
  {
   "cell_type": "code",
   "execution_count": 10,
   "metadata": {},
   "outputs": [
    {
     "name": "stdin",
     "output_type": "stream",
     "text": [
      "点数を入力してください： 11\n",
      "点数を入力してください： 22\n",
      "点数を入力してください： 33\n",
      "点数を入力してください： 44\n",
      "点数を入力してください： 55\n",
      "点数を入力してください： -1\n"
     ]
    },
    {
     "name": "stdout",
     "output_type": "stream",
     "text": [
      "5人のテストの平均点は33.0点です\n"
     ]
    }
   ],
   "source": [
    "i = 0  # ループ用変数\n",
    "number_of_people = 0  # 人数\n",
    "total = 0  # 合計点\n",
    "\n",
    "while i >= 0:\n",
    "    i += 1\n",
    "    score = int(input(\"点数を入力してください：\"))\n",
    "    \n",
    "    if score == -1:\n",
    "        break\n",
    "        \n",
    "    number_of_people += 1\n",
    "    total += score\n",
    "    \n",
    "print(f\"{number_of_people}人のテストの平均点は{total / number_of_people}点です\")"
   ]
  },
  {
   "cell_type": "code",
   "execution_count": null,
   "metadata": {},
   "outputs": [],
   "source": []
  }
 ],
 "metadata": {
  "kernelspec": {
   "display_name": "Python 3",
   "language": "python",
   "name": "python3"
  },
  "language_info": {
   "codemirror_mode": {
    "name": "ipython",
    "version": 3
   },
   "file_extension": ".py",
   "mimetype": "text/x-python",
   "name": "python",
   "nbconvert_exporter": "python",
   "pygments_lexer": "ipython3",
   "version": "3.8.3"
  }
 },
 "nbformat": 4,
 "nbformat_minor": 4
}
