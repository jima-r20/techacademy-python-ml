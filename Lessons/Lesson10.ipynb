{
 "cells": [
  {
   "cell_type": "code",
   "execution_count": null,
   "metadata": {},
   "outputs": [],
   "source": [
    "with open(\"jinko.txt\", \"rt\") as f:  # rtはデフォルトなので省略可能\n",
    "    print(f.read())  # 全データの表示"
   ]
  },
  {
   "cell_type": "code",
   "execution_count": null,
   "metadata": {},
   "outputs": [],
   "source": [
    "with open(\"jinko.txt\") as f:\n",
    "    l = f.readlines()  # 1行ずつの読み込み(リストとして読み込む)\n",
    "print(l)"
   ]
  },
  {
   "cell_type": "code",
   "execution_count": null,
   "metadata": {},
   "outputs": [],
   "source": [
    "with open(\"jinko.txt\") as f:\n",
    "    while True:  # １行ずつ読み込み(ループで読み込む)\n",
    "        l = f.readline()\n",
    "        print(l)\n",
    "        if not l:\n",
    "            break"
   ]
  },
  {
   "cell_type": "code",
   "execution_count": null,
   "metadata": {},
   "outputs": [],
   "source": [
    "with open(\"jinko.txt\") as f:\n",
    "    l = f.readline()  # １行目の見出しをスキップ\n",
    "    while l:\n",
    "        l = f.readline()\n",
    "        print(l)"
   ]
  },
  {
   "cell_type": "code",
   "execution_count": null,
   "metadata": {},
   "outputs": [],
   "source": [
    "with open(\"jinko.txt\") as f:\n",
    "    l = f.readline()\n",
    "    while l:\n",
    "        l = f.readline()\n",
    "        m = l.strip()  # 改行の取り除き\n",
    "        print(m)"
   ]
  },
  {
   "cell_type": "code",
   "execution_count": null,
   "metadata": {},
   "outputs": [],
   "source": [
    "# 先頭の５行のみ表示\n",
    "count = 0\n",
    "with open(\"jinko.txt\") as f:\n",
    "    l = f.readline()\n",
    "    while l:\n",
    "        l = f.readline()\n",
    "        m = l.strip()\n",
    "        print(m)\n",
    "        count = count + 1\n",
    "        if count >= 5:\n",
    "            break"
   ]
  },
  {
   "cell_type": "code",
   "execution_count": null,
   "metadata": {},
   "outputs": [],
   "source": [
    "# カンマ区切りで分割\n",
    "# ①split()を使う\n",
    "with open(\"jinko.txt\") as f:\n",
    "    l = f.readline()\n",
    "    while l:\n",
    "        l = f.readline()\n",
    "        v = l.split(\",\")\n",
    "        print(v)"
   ]
  },
  {
   "cell_type": "code",
   "execution_count": null,
   "metadata": {},
   "outputs": [],
   "source": [
    "# カンマ区切りで分割\n",
    "# ②csv.readerを使う(推奨)\n",
    "import csv\n",
    "\n",
    "with open(\"jinko.txt\") as f:\n",
    "    reader = csv.reader(f)\n",
    "    for l in reader:\n",
    "        print(l)"
   ]
  },
  {
   "cell_type": "code",
   "execution_count": null,
   "metadata": {},
   "outputs": [],
   "source": [
    "# 条件に合うデータのみ処理\n",
    "import csv\n",
    "\n",
    "with open(\"jinko.txt\") as f:\n",
    "    reader = csv.reader(f)\n",
    "    for l in reader:\n",
    "        if l[0] == \"北海道\":\n",
    "            print(l)"
   ]
  },
  {
   "cell_type": "code",
   "execution_count": 15,
   "metadata": {},
   "outputs": [
    {
     "name": "stdout",
     "output_type": "stream",
     "text": [
      "北海道の人口 5506419\n"
     ]
    }
   ],
   "source": [
    "# 北海道の人口の総和を求める\n",
    "import csv\n",
    "\n",
    "s = 0\n",
    "with open(\"jinko.txt\") as f:\n",
    "    reader = csv.reader(f)\n",
    "    for l in reader:\n",
    "        if l[0] == \"北海道\":\n",
    "            s = s + int(l[2])  # 整数型に変換する必要あり\n",
    "            \n",
    "print(\"北海道の人口\", s)"
   ]
  },
  {
   "cell_type": "code",
   "execution_count": 16,
   "metadata": {},
   "outputs": [
    {
     "ename": "UnicodeDecodeError",
     "evalue": "'utf-8' codec can't decode byte 0x93 in position 0: invalid start byte",
     "output_type": "error",
     "traceback": [
      "\u001b[0;31m---------------------------------------------------------------------------\u001b[0m",
      "\u001b[0;31mUnicodeDecodeError\u001b[0m                        Traceback (most recent call last)",
      "\u001b[0;32m<ipython-input-16-524305d8ffa8>\u001b[0m in \u001b[0;36m<module>\u001b[0;34m\u001b[0m\n\u001b[1;32m      2\u001b[0m \u001b[0;32mwith\u001b[0m \u001b[0mopen\u001b[0m\u001b[0;34m(\u001b[0m\u001b[0;34m\"jinko_sjis.txt\"\u001b[0m\u001b[0;34m)\u001b[0m \u001b[0;32mas\u001b[0m \u001b[0mf\u001b[0m\u001b[0;34m:\u001b[0m\u001b[0;34m\u001b[0m\u001b[0;34m\u001b[0m\u001b[0m\n\u001b[1;32m      3\u001b[0m     \u001b[0;32mwhile\u001b[0m \u001b[0;32mTrue\u001b[0m\u001b[0;34m:\u001b[0m\u001b[0;34m\u001b[0m\u001b[0;34m\u001b[0m\u001b[0m\n\u001b[0;32m----> 4\u001b[0;31m         \u001b[0ml\u001b[0m \u001b[0;34m=\u001b[0m \u001b[0mf\u001b[0m\u001b[0;34m.\u001b[0m\u001b[0mreadline\u001b[0m\u001b[0;34m(\u001b[0m\u001b[0;34m)\u001b[0m\u001b[0;34m\u001b[0m\u001b[0;34m\u001b[0m\u001b[0m\n\u001b[0m\u001b[1;32m      5\u001b[0m         \u001b[0mprint\u001b[0m\u001b[0;34m(\u001b[0m\u001b[0ml\u001b[0m\u001b[0;34m)\u001b[0m\u001b[0;34m\u001b[0m\u001b[0;34m\u001b[0m\u001b[0m\n\u001b[1;32m      6\u001b[0m         \u001b[0;32mif\u001b[0m \u001b[0;32mnot\u001b[0m \u001b[0ml\u001b[0m\u001b[0;34m:\u001b[0m\u001b[0;34m\u001b[0m\u001b[0;34m\u001b[0m\u001b[0m\n",
      "\u001b[0;32m~/.pyenv/versions/3.8.3/lib/python3.8/codecs.py\u001b[0m in \u001b[0;36mdecode\u001b[0;34m(self, input, final)\u001b[0m\n\u001b[1;32m    320\u001b[0m         \u001b[0;31m# decode input (taking the buffer into account)\u001b[0m\u001b[0;34m\u001b[0m\u001b[0;34m\u001b[0m\u001b[0;34m\u001b[0m\u001b[0m\n\u001b[1;32m    321\u001b[0m         \u001b[0mdata\u001b[0m \u001b[0;34m=\u001b[0m \u001b[0mself\u001b[0m\u001b[0;34m.\u001b[0m\u001b[0mbuffer\u001b[0m \u001b[0;34m+\u001b[0m \u001b[0minput\u001b[0m\u001b[0;34m\u001b[0m\u001b[0;34m\u001b[0m\u001b[0m\n\u001b[0;32m--> 322\u001b[0;31m         \u001b[0;34m(\u001b[0m\u001b[0mresult\u001b[0m\u001b[0;34m,\u001b[0m \u001b[0mconsumed\u001b[0m\u001b[0;34m)\u001b[0m \u001b[0;34m=\u001b[0m \u001b[0mself\u001b[0m\u001b[0;34m.\u001b[0m\u001b[0m_buffer_decode\u001b[0m\u001b[0;34m(\u001b[0m\u001b[0mdata\u001b[0m\u001b[0;34m,\u001b[0m \u001b[0mself\u001b[0m\u001b[0;34m.\u001b[0m\u001b[0merrors\u001b[0m\u001b[0;34m,\u001b[0m \u001b[0mfinal\u001b[0m\u001b[0;34m)\u001b[0m\u001b[0;34m\u001b[0m\u001b[0;34m\u001b[0m\u001b[0m\n\u001b[0m\u001b[1;32m    323\u001b[0m         \u001b[0;31m# keep undecoded input until the next call\u001b[0m\u001b[0;34m\u001b[0m\u001b[0;34m\u001b[0m\u001b[0;34m\u001b[0m\u001b[0m\n\u001b[1;32m    324\u001b[0m         \u001b[0mself\u001b[0m\u001b[0;34m.\u001b[0m\u001b[0mbuffer\u001b[0m \u001b[0;34m=\u001b[0m \u001b[0mdata\u001b[0m\u001b[0;34m[\u001b[0m\u001b[0mconsumed\u001b[0m\u001b[0;34m:\u001b[0m\u001b[0;34m]\u001b[0m\u001b[0;34m\u001b[0m\u001b[0;34m\u001b[0m\u001b[0m\n",
      "\u001b[0;31mUnicodeDecodeError\u001b[0m: 'utf-8' codec can't decode byte 0x93 in position 0: invalid start byte"
     ]
    }
   ],
   "source": [
    "# UTF-8以外のファイルの読み込み\n",
    "with open(\"jinko_sjis.txt\") as f:\n",
    "    while True:\n",
    "        l = f.readline()\n",
    "        print(l)\n",
    "        if not l:\n",
    "            break\n",
    "            \n",
    "# ->この出力はエラーになる"
   ]
  },
  {
   "cell_type": "code",
   "execution_count": null,
   "metadata": {},
   "outputs": [],
   "source": [
    "# UTF-8以外のファイルの読み込み\n",
    "with open(\"jinko_sjis.txt\", encoding='shift-jis') as f:  # UTF-8　以外のファイルの場合、エンコードする必要あり\n",
    "    while True:\n",
    "        l = f.readline()\n",
    "        print(l)\n",
    "        if not l:\n",
    "            break"
   ]
  },
  {
   "cell_type": "code",
   "execution_count": null,
   "metadata": {},
   "outputs": [],
   "source": [
    "# 改行コードの扱い -> 改行コードを指定できる\n",
    "with open(\"jinko_sjis.txt\", encoding='shift-jis', newline='\\r\\n') as f:\n",
    "    while True:\n",
    "        l = f.readline()\n",
    "        print(l)\n",
    "        if not l:\n",
    "            break"
   ]
  },
  {
   "cell_type": "code",
   "execution_count": 21,
   "metadata": {},
   "outputs": [],
   "source": [
    "# テキストファイルへの書き込み\n",
    "with open(\"writeexample.txt\", \"w\") as f:\n",
    "    f.write(\"abc\\r\\n\")\n",
    "    f.write(\"defgh\")"
   ]
  },
  {
   "cell_type": "code",
   "execution_count": 22,
   "metadata": {},
   "outputs": [],
   "source": [
    "# 複数行の書き込み\n",
    "data = [\"abc\", \"defgh\"]\n",
    "with open(\"writeexample.txt\", \"w\") as f:\n",
    "    f.writelines(data)"
   ]
  },
  {
   "cell_type": "code",
   "execution_count": 25,
   "metadata": {},
   "outputs": [
    {
     "name": "stdout",
     "output_type": "stream",
     "text": [
      "abc,def,ghi\n",
      "1,2,3\n"
     ]
    }
   ],
   "source": [
    "# CSVデータの書き込み\n",
    "# ①join()を使う -> 数値の場合はエラーになる\n",
    "data = [\"abc\", \"def\", \"ghi\"]\n",
    "csvdata = \",\".join(data)\n",
    "print(csvdata)\n",
    "\n",
    "# 数値を書き込む場合 -> 文字列に変換\n",
    "data2 = [1, 2, 3]\n",
    "\n",
    "for i in range(len(data)):\n",
    "    data2[i] = str(data2[i])\n",
    "\n",
    "csvdata2 = \",\".join(data2)\n",
    "print(csvdata2)\n",
    "\n",
    "\n",
    "# csvデータの書き込み\n",
    "alldata = [\n",
    "    [1, 2, 3],\n",
    "    [2, 3, 5]\n",
    "]\n",
    "with open(\"writeexample3.txt\", \"w\") as f:\n",
    "    for data in alldata:\n",
    "        csvdata3 = \",\".join([str(x) for x in data])\n",
    "        f.write(csvdata3 + \"\\r\\n\")"
   ]
  },
  {
   "cell_type": "code",
   "execution_count": 27,
   "metadata": {},
   "outputs": [],
   "source": [
    "# CSVデータの書き込み\n",
    "# ②csv.writerを使う(推奨)\n",
    "import csv\n",
    "\n",
    "alldata = [\n",
    "    [1, 2, 3],\n",
    "    [2, 3, 5]\n",
    "]\n",
    "\n",
    "with open(\"writeexample4.txt\", \"w\") as f:\n",
    "    writer = csv.writer(f)\n",
    "    writer.writerows(alldata)  # 全データをまとめて書き込み\n",
    "    \n",
    "with open(\"writeexample5.txt\", \"w\") as f:\n",
    "    writer = csv.writer(f)\n",
    "    for data in alldata:\n",
    "        writer.writerow(data)  # １行ずつ書き込み"
   ]
  },
  {
   "cell_type": "code",
   "execution_count": null,
   "metadata": {},
   "outputs": [],
   "source": []
  }
 ],
 "metadata": {
  "kernelspec": {
   "display_name": "Python 3",
   "language": "python",
   "name": "python3"
  },
  "language_info": {
   "codemirror_mode": {
    "name": "ipython",
    "version": 3
   },
   "file_extension": ".py",
   "mimetype": "text/x-python",
   "name": "python",
   "nbconvert_exporter": "python",
   "pygments_lexer": "ipython3",
   "version": "3.8.3"
  }
 },
 "nbformat": 4,
 "nbformat_minor": 4
}
