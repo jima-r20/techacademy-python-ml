{
 "cells": [
  {
   "cell_type": "code",
   "execution_count": 1,
   "metadata": {},
   "outputs": [
    {
     "name": "stdin",
     "output_type": "stream",
     "text": [
      "スポーツの名前を入力： baseball\n",
      "スポーツの名前を入力： soccer\n",
      "スポーツの名前を入力： golf\n",
      "スポーツの名前を入力： basketball\n",
      "スポーツの名前を入力： tennis\n",
      "スポーツの名前を入力： \n"
     ]
    },
    {
     "name": "stdout",
     "output_type": "stream",
     "text": [
      "baseball\n",
      "soccer\n",
      "golf\n",
      "basketball\n",
      "tennis\n",
      "以上です\n"
     ]
    }
   ],
   "source": [
    "sports = []\n",
    "\n",
    "# リストへ登録\n",
    "while True:\n",
    "    s = input(\"スポーツの名前を入力：\")\n",
    "    \n",
    "    if s == \"\":\n",
    "        break\n",
    "        \n",
    "    sports.append(s)\n",
    "    \n",
    "# リストから１件ずつ表示\n",
    "for s in sports:\n",
    "    print(s)\n",
    "    \n",
    "print(\"以上です\")"
   ]
  },
  {
   "cell_type": "code",
   "execution_count": 6,
   "metadata": {},
   "outputs": [
    {
     "name": "stdout",
     "output_type": "stream",
     "text": [
      "a: (1, 2, 3, 4, 5)\n",
      "b: ('apple', 'banana', 'orange', 'peach')\n",
      "c: ()\n",
      "d: (1, 'hoge', 'fuga', 5, 7, 'aaa')\n",
      "a: (6, 7, 8, 9, 10)\n"
     ]
    }
   ],
   "source": [
    "# tuple\n",
    "a = (1, 2, 3, 4, 5)\n",
    "b = (\"apple\", \"banana\", \"orange\", \"peach\")\n",
    "c = ()\n",
    "d = (1, \"hoge\", \"fuga\", 5, 7, \"aaa\")\n",
    "\n",
    "print(f\"a: {a}\")\n",
    "print(f\"b: {b}\")\n",
    "print(f\"c: {c}\")\n",
    "print(f\"d: {d}\")\n",
    "\n",
    "a = (6, 7, 8, 9,10)\n",
    "print(f\"a: {a}\")"
   ]
  },
  {
   "cell_type": "code",
   "execution_count": 8,
   "metadata": {},
   "outputs": [
    {
     "name": "stdout",
     "output_type": "stream",
     "text": [
      "(1, 2, 3, 4, 5, 6)\n",
      "(1, 2, 3, 4, 5, 6, 7, 8, 9)\n",
      "(1, 2, 3, 1, 2, 3, 1, 2, 3)\n",
      "(1, 2, 3, 1, 2, 3, 1, 2, 3, 1, 2, 3, 1, 2, 3, 1, 2, 3)\n"
     ]
    }
   ],
   "source": [
    "# tuple\n",
    "num1 = (1, 2, 3)\n",
    "num2 = (4, 5, 6)\n",
    "num3 = num1 + num2\n",
    "print(num3)\n",
    "\n",
    "num3 += (7, 8, 9)\n",
    "print(num3)\n",
    "\n",
    "num4 = num1 * 3\n",
    "print(num4)\n",
    "\n",
    "num4 *= 2\n",
    "print(num4)"
   ]
  },
  {
   "cell_type": "code",
   "execution_count": 11,
   "metadata": {},
   "outputs": [
    {
     "name": "stdout",
     "output_type": "stream",
     "text": [
      "1\n",
      "<class 'int'>\n",
      "(1,)\n",
      "<class 'tuple'>\n"
     ]
    }
   ],
   "source": [
    "# tuple\n",
    "a = (1)\n",
    "print(a)\n",
    "print(type(a))\n",
    "\n",
    "a = (1,)\n",
    "print(a)\n",
    "print(type(a))"
   ]
  },
  {
   "cell_type": "code",
   "execution_count": 13,
   "metadata": {},
   "outputs": [
    {
     "name": "stdout",
     "output_type": "stream",
     "text": [
      "e: ('T', 'e', 'c', 'h', 'A', 'c', 'a', 'd', 'e', 'm', 'y')\n",
      "f: (1, 3, 5, 7, 9)\n",
      "g: ()\n"
     ]
    }
   ],
   "source": [
    "# tuple\n",
    "e = tuple(\"TechAcademy\")\n",
    "print(f\"e: {e}\")\n",
    "\n",
    "f = tuple(range(1, 11, 2))\n",
    "print(f\"f: {f}\")\n",
    "\n",
    "g = tuple()\n",
    "print(f\"g: {g}\")"
   ]
  },
  {
   "cell_type": "code",
   "execution_count": 21,
   "metadata": {},
   "outputs": [
    {
     "name": "stdout",
     "output_type": "stream",
     "text": [
      "(0, 1, 2, 3, 4, 5, 6, 7, 8, 9, 10, 11, 12, 13, 14, 15, 16, 17, 18, 19)\n",
      "0\n",
      "1\n",
      "2\n",
      "(1, 2, 3, 4, 5, 6, 7, 8, 9)\n",
      "(15, 16, 17, 18, 19)\n",
      "(1, 3, 5, 7, 9)\n",
      "(0, 3, 6, 9, 12, 15, 18)\n",
      "(0, 1, 2, 3, 4, 5, 6, 7, 8, 9, 10, 11, 12, 13, 14, 15, 16, 17, 18, 19)\n"
     ]
    }
   ],
   "source": [
    "# tupleの参照\n",
    "nums = tuple(range(20))\n",
    "print(nums)\n",
    "\n",
    "print(nums[0])\n",
    "print(nums[1])\n",
    "print(nums[2])\n",
    "\n",
    "print(nums[1:10])\n",
    "print(nums[15:])\n",
    "print(nums[1:10:2])\n",
    "print(nums[::3])\n",
    "print(nums[::])"
   ]
  },
  {
   "cell_type": "code",
   "execution_count": 22,
   "metadata": {},
   "outputs": [
    {
     "name": "stdout",
     "output_type": "stream",
     "text": [
      "100\n",
      "200\n",
      "300\n"
     ]
    }
   ],
   "source": [
    "# tupleの参照\n",
    "nums = (100, 200, 300)\n",
    "a, b, c = nums\n",
    "\n",
    "print(a)\n",
    "print(b)\n",
    "print(c)"
   ]
  },
  {
   "cell_type": "code",
   "execution_count": 29,
   "metadata": {},
   "outputs": [
    {
     "name": "stdout",
     "output_type": "stream",
     "text": [
      "('T', 'e', 'c', 'h', 'A', 'c', 'a', 'd', 'e', 'm', 'y')\n",
      "1\n",
      "2\n",
      "0\n",
      "6\n",
      "1\n",
      "True\n",
      "False\n"
     ]
    }
   ],
   "source": [
    "# tupleの検索\n",
    "ta = tuple(\"TechAcademy\")\n",
    "print(ta)\n",
    "\n",
    "print(ta.count(\"a\"))\n",
    "print(ta.count(\"e\"))\n",
    "print(ta.count(\"b\"))\n",
    "\n",
    "print(ta.index(\"a\"))\n",
    "print(ta.index(\"e\"))\n",
    "# print(ta.index(\"b\"))\n",
    "\n",
    "print(\"a\" in ta)\n",
    "print(\"b\" in ta)"
   ]
  },
  {
   "cell_type": "code",
   "execution_count": 34,
   "metadata": {},
   "outputs": [
    {
     "name": "stdout",
     "output_type": "stream",
     "text": [
      "[(1, 4, 7, 10), (2, 5, 8, 11), (3, 6, 9, 12)]\n",
      "(1, 4, 7, 10)\n",
      "(3, 6, 9, 12)\n",
      "<class 'tuple'>\n"
     ]
    }
   ],
   "source": [
    "# zip()\n",
    "a0 = [1, 2, 3]\n",
    "a1 = [4, 5, 6]\n",
    "a2 = [7, 8, 9]\n",
    "a3 = [10, 11, 12]\n",
    "temp_a = zip(a0, a1, a2, a3)\n",
    "a = list(temp_a)\n",
    "\n",
    "print(a)\n",
    "print(a[0])\n",
    "print(a[2])\n",
    "print(type(a[0]))"
   ]
  },
  {
   "cell_type": "code",
   "execution_count": 37,
   "metadata": {},
   "outputs": [
    {
     "name": "stdout",
     "output_type": "stream",
     "text": [
      "[(1, 'baseball'), (2, 'soccer'), (3, 'volleyball'), (4, 'golf'), (5, 'tennis')]\n"
     ]
    }
   ],
   "source": [
    "# enumerate()\n",
    "sports = [\"baseball\", \"soccer\", \"volleyball\", \"golf\", \"tennis\"]\n",
    "temp_sports = enumerate(sports, 1)\n",
    "sports_tl = list(temp_sports)\n",
    "print(sports_tl)"
   ]
  },
  {
   "cell_type": "code",
   "execution_count": null,
   "metadata": {},
   "outputs": [],
   "source": []
  }
 ],
 "metadata": {
  "kernelspec": {
   "display_name": "Python 3",
   "language": "python",
   "name": "python3"
  },
  "language_info": {
   "codemirror_mode": {
    "name": "ipython",
    "version": 3
   },
   "file_extension": ".py",
   "mimetype": "text/x-python",
   "name": "python",
   "nbconvert_exporter": "python",
   "pygments_lexer": "ipython3",
   "version": "3.8.3"
  }
 },
 "nbformat": 4,
 "nbformat_minor": 4
}
