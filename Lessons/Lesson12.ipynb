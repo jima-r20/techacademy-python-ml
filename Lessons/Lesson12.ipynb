{
 "cells": [
  {
   "cell_type": "code",
   "execution_count": 2,
   "metadata": {},
   "outputs": [],
   "source": [
    "import numpy as np"
   ]
  },
  {
   "cell_type": "code",
   "execution_count": 3,
   "metadata": {},
   "outputs": [
    {
     "name": "stdout",
     "output_type": "stream",
     "text": [
      "<class 'numpy.ndarray'>\n",
      "[0 1 2]\n",
      "int64\n"
     ]
    }
   ],
   "source": [
    "# NumPyの配列を作る\n",
    "a = np.array([0, 1, 2])\n",
    "print(type(a))\n",
    "print(a)\n",
    "print(a.dtype)"
   ]
  },
  {
   "cell_type": "code",
   "execution_count": 4,
   "metadata": {},
   "outputs": [
    {
     "name": "stdout",
     "output_type": "stream",
     "text": [
      "[1.  1.5 2. ]\n",
      "float64\n",
      "[1.+2.j 3.+4.j 5.+6.j]\n",
      "complex128\n",
      "[ True False  True False False]\n",
      "bool\n",
      "['T' 'e' 'c' 'h' 'A' 'c' 'a' 'd' 'e' 'm' 'y']\n",
      "<U1\n"
     ]
    }
   ],
   "source": [
    "b = np.array([1, 1.5, 2])\n",
    "print(b)\n",
    "print(b.dtype)\n",
    "\n",
    "c = np.array([1 + 2j, 3 + 4j, 5 + 6j])\n",
    "print(c)\n",
    "print(c.dtype)\n",
    "\n",
    "d = np.array([True, False, True, False, False])\n",
    "print(d)\n",
    "print(d.dtype)\n",
    "\n",
    "e = np.array(list(\"TechAcademy\"))\n",
    "print(e)\n",
    "print(e.dtype)"
   ]
  },
  {
   "cell_type": "code",
   "execution_count": 5,
   "metadata": {},
   "outputs": [
    {
     "name": "stdout",
     "output_type": "stream",
     "text": [
      "[100 200 300]\n",
      "int16\n"
     ]
    }
   ],
   "source": [
    "# 小さい数字を使いたい場合\n",
    "# -> デフォルトがint64でメモリやHDDの容量を無駄にする可能性があるのでそんなに使わない場合には指定もできる\n",
    "f = np.array([100, 200, 300], dtype = np.int16)\n",
    "print(f)\n",
    "print(f.dtype)"
   ]
  },
  {
   "cell_type": "code",
   "execution_count": 8,
   "metadata": {},
   "outputs": [
    {
     "name": "stdout",
     "output_type": "stream",
     "text": [
      "[1.5 2.5 3.5]\n",
      "float64\n",
      "[1 2 3]\n",
      "int64\n"
     ]
    }
   ],
   "source": [
    "# 既に存在するndarrayのデータ型を変換する\n",
    "g = np.array([1.5, 2.5, 3.5])\n",
    "print(g)\n",
    "print(g.dtype)\n",
    "\n",
    "g = g.astype(np.int64)  # データ型の変換\n",
    "print(g)\n",
    "print(g.dtype)"
   ]
  },
  {
   "cell_type": "code",
   "execution_count": 20,
   "metadata": {},
   "outputs": [
    {
     "name": "stdout",
     "output_type": "stream",
     "text": [
      "[ 0  1  2  3  4  5  6  7  8  9 10 11 12 13 14 15 16 17 18 19]\n",
      "[ 1  2  3  4  5  6  7  8  9 10 11 12 13 14 15 16 17 18 19 20]\n",
      "[ 2  4  6  8 10 12 14 16 18 20 22 24 26 28 30 32 34 36 38 40]\n",
      "[ 0.   2.5  5.   7.5 10. ]\n"
     ]
    }
   ],
   "source": [
    "# 配列の作成に便利なメソッド\n",
    "\n",
    "# arange() -> range()と引数の指定の仕方は一緒\n",
    "a = np.arange(20)\n",
    "print(a)\n",
    "\n",
    "b = np.arange(1, 21)\n",
    "print(b)\n",
    "\n",
    "c = np.arange(2, 41, 2)\n",
    "print(c)\n",
    "\n",
    "\n",
    "# linspace(a, b, c) -> a以上b以下の数値をc分割したもの\n",
    "d = np.linspace(0, 10, 5)\n",
    "print(d)"
   ]
  },
  {
   "cell_type": "code",
   "execution_count": 23,
   "metadata": {},
   "outputs": [
    {
     "name": "stdout",
     "output_type": "stream",
     "text": [
      "[0. 0. 0. 0. 0.]\n",
      "[0. 0. 0. 0. 0.]\n",
      "[1. 1. 1. 1. 1.]\n"
     ]
    }
   ],
   "source": [
    "# empty() -> とりあえず先に指定の要素数をもつ配列だけ用意する\n",
    "e = np.empty(5)\n",
    "print(e)  # 各要素の初期化はしないので、そのときによって値はバラバラになる\n",
    "\n",
    "# zeros() -> empty()と使い方は一緒で、全ての要素を0で初期化したものを作る\n",
    "f = np.zeros(5)\n",
    "print(f)\n",
    "\n",
    "# ones() -> 1で初期化\n",
    "f_ones = np.ones(5)\n",
    "print(f_ones)"
   ]
  },
  {
   "cell_type": "code",
   "execution_count": 34,
   "metadata": {},
   "outputs": [
    {
     "name": "stdout",
     "output_type": "stream",
     "text": [
      "[0.09273815 0.96859256 0.48988974 0.12620386 0.44343206]\n",
      "[1 6 3 1 3]\n",
      "[1, 6, 3, 1]\n"
     ]
    }
   ],
   "source": [
    "# random.rand() -> 全ての要素をランダムな数値で初期化\n",
    "g = np.random.rand(5)\n",
    "print(g)  # 1より小さい小数になる\n",
    "\n",
    "# 1から6までの整数値にしたい場合\n",
    "g = g * 6 + 1\n",
    "g = g.astype(np.int8)\n",
    "print(g)\n",
    "\n",
    "# tolist() -> 配列(ndarray)からリストに変換\n",
    "gl = g.tolist()\n",
    "gl.pop()\n",
    "print(gl)"
   ]
  },
  {
   "cell_type": "code",
   "execution_count": 33,
   "metadata": {},
   "outputs": [
    {
     "name": "stdout",
     "output_type": "stream",
     "text": [
      "[1 2 3 4 5 6]\n"
     ]
    }
   ],
   "source": [
    "# concatenate() -> 既にある２つの配列を連結させたい場合\n",
    "h = np.arange(1, 4)\n",
    "i = np.arange(4, 7)\n",
    "j = np.concatenate([h, i])\n",
    "print(j)"
   ]
  },
  {
   "cell_type": "code",
   "execution_count": 45,
   "metadata": {},
   "outputs": [
    {
     "name": "stdout",
     "output_type": "stream",
     "text": [
      "[[1 2 3]\n",
      " [4 5 6]]\n",
      "[[1 2 3]\n",
      " [4 5 6]]\n",
      "[ 1  2  3  4  5  6  7  8  9 10 11 12 13 14 15 16 17 18 19 20]\n",
      "(20,)\n",
      "[[ 1  2  3  4  5]\n",
      " [ 6  7  8  9 10]\n",
      " [11 12 13 14 15]\n",
      " [16 17 18 19 20]]\n",
      "(4, 5)\n",
      "[[[ 1  2  3  4  5]\n",
      "  [ 6  7  8  9 10]]\n",
      "\n",
      " [[11 12 13 14 15]\n",
      "  [16 17 18 19 20]]]\n",
      "[[ 1  2  3  4  5]\n",
      " [ 6  7  8  9 10]\n",
      " [11 12 13 14 15]\n",
      " [16 17 18 19 20]]\n",
      "[ 1  2  3  4  5  6  7  8  9 10 11 12 13 14 15 16 17 18 19 20]\n",
      "[[ 1  2  3  4  5]\n",
      " [ 6  7  8  9 10]\n",
      " [11 12 13 14 15]\n",
      " [16 17 18 19 20]]\n",
      "[ 1  2  3  4  5  6  7  8  9 10 11 12 13 14 15 16 17 18 19 20]\n"
     ]
    }
   ],
   "source": [
    "# 多次元配列の作成\n",
    "a = np.array([[1, 2, 3], [4, 5, 6]])\n",
    "print(a)\n",
    "\n",
    "# empty()を利用する場合 -> 引数（縦の要素数, 横の要素数） タプル形式\n",
    "b = np.empty((2, 3), dtype=np.int64)\n",
    "b[0] = [1, 2, 3]\n",
    "b[1] = [4, 5, 6]\n",
    "print(b)\n",
    "\n",
    "\n",
    "# reshape() -> １次元配列を多次元配列に変換\n",
    "c = np.arange(1, 21)\n",
    "print(c)\n",
    "print(c.shape)\n",
    "d = c.reshape(4, 5)  # 引数(縦, 横) -> 元の要素すうと同数になる必要がある\n",
    "print(d)\n",
    "print(d.shape)\n",
    "d2 = c.reshape(2, 2, 5)\n",
    "print(d2)\n",
    "\n",
    "\n",
    "# flatten(), ravel() -> 多次元配列を１次元配列に変換(ravelは元の配列が無くなる代わりに処理が高速)\n",
    "e = np.arange(1, 21).reshape(4, 5)\n",
    "f = e.flatten()\n",
    "print(e)\n",
    "print(f)\n",
    "\n",
    "g = e.ravel()\n",
    "print(e)\n",
    "print(g)"
   ]
  },
  {
   "cell_type": "code",
   "execution_count": 3,
   "metadata": {},
   "outputs": [
    {
     "name": "stdout",
     "output_type": "stream",
     "text": [
      "1\n",
      "12\n",
      "[[12 13]\n",
      " [22 23]]\n",
      "[[12 15]\n",
      " [42 45]]\n",
      "[[ 1  2  3  4  5]\n",
      " [11 12 13 14 15]\n",
      " [21 22 23 24 25]\n",
      " [31 32 33 34 35]\n",
      " [41 42 43 44 45]]\n",
      "[[ 78  79  80]\n",
      " [ 88  89  90]\n",
      " [ 98  99 100]]\n",
      "[[  1   4   7  10]\n",
      " [ 31  34  37  40]\n",
      " [ 61  64  67  70]\n",
      " [ 91  94  97 100]]\n",
      "[[  1   2   3   4   5   6   7   8   9  10]\n",
      " [ 11  12  13  14  15  16  17  18  19  20]\n",
      " [ 21  22  23  24  25  26  27  28  29  30]\n",
      " [ 31  32  33  34  35  36  37  38  39  40]\n",
      " [ 41  42  43  44  45  46  47  48  49  50]\n",
      " [ 51  52  53  54  55  56  57  58  59  60]\n",
      " [ 61  62  63  64  65  66  67  68  69  70]\n",
      " [ 71  72  73  74  75  76  77  78  79  80]\n",
      " [ 81  82  83  84  85  86  87  88  89  90]\n",
      " [ 91  92  93  94  95  96  97  98  99 100]]\n"
     ]
    }
   ],
   "source": [
    "# 要素の参照と更新\n",
    "a = np.arange(1, 101).reshape(10, 10)\n",
    "print(a[0, 0])\n",
    "print(a[1, 1])\n",
    "print(a[1:3, 1:3])\n",
    "print(a[1:5:3, 1:5:3])\n",
    "print(a[:5, :5])\n",
    "print(a[7:, 7:])\n",
    "print(a[::3, ::3])\n",
    "print(a[:, :])"
   ]
  },
  {
   "cell_type": "code",
   "execution_count": 8,
   "metadata": {},
   "outputs": [
    {
     "name": "stdout",
     "output_type": "stream",
     "text": [
      "[ 1  2  3  4  5  6  7  8  9 10 11 12 13 14 15 16 17 18 19 20 21 22 23 24]\n",
      "[1 6 2 7 8 3 4 5]\n",
      "[[0 0 0]\n",
      " [0 0 0]\n",
      " [1 1 1]\n",
      " [0 0 0]]\n",
      "[[0 0 0]\n",
      " [0 0 0]\n",
      " [0 0 0]\n",
      " [1 1 1]]\n",
      "[[0 0 1 0]\n",
      " [0 0 1 0]\n",
      " [0 0 1 0]]\n",
      "[[0 0 0 1]\n",
      " [0 0 0 1]\n",
      " [0 0 0 1]]\n"
     ]
    }
   ],
   "source": [
    "# 要素の新規追加\n",
    "# append(配列, 追加要素) -> 配列の末尾に追加\n",
    "a = np.arange(1, 20)\n",
    "a = np.append(a, 20)\n",
    "a = np.append(a, (21, 22, 23, 24))\n",
    "print(a)\n",
    "\n",
    "# insert(配列, 追加したい場所, 追加要素) -> 特定の場所に追加\n",
    "b = np.arange(1, 6)\n",
    "b = np.insert(b, 1, 6)\n",
    "b = np.insert(b, 3, (7, 8))\n",
    "print(b)\n",
    "\n",
    "\n",
    "# 多次元配列へのinsert() -> ４つ目の引数（０の場合は横に１行、１の場合は縦に１列）\n",
    "c = np.array([[0, 0, 0], [0, 0, 0], [0, 0, 0]])\n",
    "d = np.array([1, 1, 1])\n",
    "(h, v) = c.shape  # 縦の要素数と横の要素数取得\n",
    "\n",
    "e = np.insert(c, 2, d, 0)\n",
    "print(e)\n",
    "f = np.insert(c, h, d, 0)\n",
    "print(f)\n",
    "g = np.insert(c, 2, d, 1)\n",
    "print(g)\n",
    "h = np.insert(c, v, d, 1)\n",
    "print(h)"
   ]
  },
  {
   "cell_type": "code",
   "execution_count": 10,
   "metadata": {},
   "outputs": [
    {
     "name": "stdout",
     "output_type": "stream",
     "text": [
      "[0 1 3 4]\n",
      "[[ 1  2  3  4  5]\n",
      " [11 12 13 14 15]\n",
      " [16 17 18 19 20]\n",
      " [21 22 23 24 25]]\n",
      "[[ 1  3  4  5]\n",
      " [ 6  8  9 10]\n",
      " [11 13 14 15]\n",
      " [16 18 19 20]\n",
      " [21 23 24 25]]\n"
     ]
    }
   ],
   "source": [
    "# 要素の削除\n",
    "a = np.arange(5)\n",
    "a = np.delete(a, 2)\n",
    "print(a)\n",
    "\n",
    "# 多次元配列の場合、引数が増える -> ０の場合は１行丸ごと、１の場合は１列丸ごと削除\n",
    "b = np.arange(1, 26).reshape(5, 5)\n",
    "b = np.delete(b, 1, 0)  # 行の削除\n",
    "print(b)\n",
    "\n",
    "c = np.arange(1, 26).reshape(5, 5)\n",
    "c = np.delete(c, 1, 1)  # 列の削除\n",
    "print(c)"
   ]
  },
  {
   "cell_type": "code",
   "execution_count": 14,
   "metadata": {},
   "outputs": [
    {
     "name": "stdout",
     "output_type": "stream",
     "text": [
      "[ 1  2  3  4  5  6  7  8  9 10]\n",
      "[ 2  3  4  5  6  7  8  9 10 11]\n",
      "[0 1 2 3 4 5 6 7 8 9]\n",
      "[ 2  4  6  8 10 12 14 16 18 20]\n",
      "[0.5 1.  1.5 2.  2.5 3.  3.5 4.  4.5 5. ]\n",
      "[1 0 1 0 1 0 1 0 1 0]\n",
      "[[ 8 10 12]\n",
      " [14 16 18]]\n",
      "[[6 6 6]\n",
      " [6 6 6]]\n",
      "[[ 5 12]\n",
      " [21 32]]\n",
      "[[0.2        0.33333333]\n",
      " [0.42857143 0.5       ]]\n"
     ]
    }
   ],
   "source": [
    "# 配列の四則演算\n",
    "a = np.arange(1, 11)\n",
    "print(a)\n",
    "print(a + 1)\n",
    "print(a - 1)\n",
    "print(a * 2)\n",
    "print(a / 2)\n",
    "print(a % 2)\n",
    "\n",
    "# 配列同士の演算\n",
    "b = np.arange(1, 7).reshape(2, 3)\n",
    "c = np.arange(7, 13).reshape(2, 3)\n",
    "print(c + b)\n",
    "print(c - b)\n",
    "\n",
    "d = np.arange(1, 5).reshape(2, 2)\n",
    "e = np.arange(5, 9).reshape(2, 2)\n",
    "print(d * e)\n",
    "print(d / e)"
   ]
  },
  {
   "cell_type": "code",
   "execution_count": 17,
   "metadata": {},
   "outputs": [
    {
     "name": "stdout",
     "output_type": "stream",
     "text": [
      "[0.91555708 0.39535567 0.05779214 0.03049818 0.73565572]\n",
      "[6.49334251 3.37213404 1.34675285 1.1829891  5.41393431]\n",
      "[6 3 1 1 5]\n",
      "[7 4 2 2 6]\n",
      "[6 3 1 1 5]\n"
     ]
    }
   ],
   "source": [
    "# ユニバーサル関数 -> 一度に全要素への計算処理を適用し、結果を新たな配列にする\n",
    "# floor(), ceil(), round()など\n",
    "a = np.random.rand(5)\n",
    "print(a)\n",
    "\n",
    "a = a * 6 + 1\n",
    "\n",
    "print(a)\n",
    "print(np.array(np.floor(a), dtype=np.int64))  # 小数点以下切り捨て\n",
    "print(np.array(np.ceil(a), dtype=np.int64))  # 小数点以下切り上げ\n",
    "print(np.array(np.round(a), dtype=np.int64))  #小数点以下四捨五入"
   ]
  },
  {
   "cell_type": "code",
   "execution_count": 24,
   "metadata": {},
   "outputs": [
    {
     "name": "stdout",
     "output_type": "stream",
     "text": [
      "[[1 2 3]\n",
      " [4 5 6]\n",
      " [7 8 9]]\n",
      "[[3 2 1]\n",
      " [6 5 4]\n",
      " [9 8 7]]\n",
      "[[7 8 9]\n",
      " [4 5 6]\n",
      " [1 2 3]]\n",
      "[[3 6 9]\n",
      " [2 5 8]\n",
      " [1 4 7]]\n",
      "[[9 8 7]\n",
      " [6 5 4]\n",
      " [3 2 1]]\n",
      "[[7 4 1]\n",
      " [8 5 2]\n",
      " [9 6 3]]\n"
     ]
    }
   ],
   "source": [
    "# 行列の反転と回転\n",
    "a = np.arange(1, 10).reshape(3, 3)\n",
    "print(a)\n",
    "\n",
    "# 左右反転 -> fliplr()\n",
    "b = np.fliplr(a)\n",
    "print(b)\n",
    "\n",
    "# 上下反転 -> flipud()\n",
    "c = np.flipud(a)\n",
    "print(c)\n",
    "\n",
    "# 反時計回りに９０度回転 -> rot90() 第２引数は回転数\n",
    "d = np.rot90(a, 1)\n",
    "print(d)\n",
    "e = np.rot90(a, 2)\n",
    "print(e)\n",
    "f = np.rot90(a, 3)\n",
    "print(f)"
   ]
  },
  {
   "cell_type": "code",
   "execution_count": 25,
   "metadata": {},
   "outputs": [
    {
     "name": "stdout",
     "output_type": "stream",
     "text": [
      "[[ 1  2  3  4  5  6  7  8  9]\n",
      " [ 2  4  6  8 10 12 14 16 18]\n",
      " [ 3  6  9 12 15 18 21 24 27]\n",
      " [ 4  8 12 16 20 24 28 32 36]\n",
      " [ 5 10 15 20 25 30 35 40 45]\n",
      " [ 6 12 18 24 30 36 42 48 54]\n",
      " [ 7 14 21 28 35 42 49 56 63]\n",
      " [ 8 16 24 32 40 48 56 64 72]\n",
      " [ 9 18 27 36 45 54 63 72 81]]\n"
     ]
    }
   ],
   "source": [
    "# 練習問題 -> 掛け算の九九の表を２次元配列として作成するプログラム(２通り)\n",
    "# ①\n",
    "import numpy as np\n",
    "\n",
    "a = np.array([1, 2, 3, 4, 5, 6, 7, 8, 9])\n",
    "b = np.arange(1, 10)\n",
    "b = b.reshape(9, 1)\n",
    "c = a * b\n",
    "print(c)"
   ]
  },
  {
   "cell_type": "code",
   "execution_count": 27,
   "metadata": {},
   "outputs": [
    {
     "name": "stdout",
     "output_type": "stream",
     "text": [
      "[[ 1  2  3  4  5  6  7  8  9]\n",
      " [ 2  4  6  8 10 12 14 16 18]\n",
      " [ 3  6  9 12 15 18 21 24 27]\n",
      " [ 4  8 12 16 20 24 28 32 36]\n",
      " [ 5 10 15 20 25 30 35 40 45]\n",
      " [ 6 12 18 24 30 36 42 48 54]\n",
      " [ 7 14 21 28 35 42 49 56 63]\n",
      " [ 8 16 24 32 40 48 56 64 72]\n",
      " [ 9 18 27 36 45 54 63 72 81]]\n"
     ]
    }
   ],
   "source": [
    "# ②\n",
    "import numpy as np\n",
    "\n",
    "d = np.zeros((9, 9))\n",
    "d = d.astype(np.int8)\n",
    "\n",
    "for i in range(9):\n",
    "    for j in range(9):\n",
    "        d[i, j] = (i + 1) * (j + 1)\n",
    "        \n",
    "print(d)"
   ]
  },
  {
   "cell_type": "code",
   "execution_count": null,
   "metadata": {},
   "outputs": [],
   "source": []
  }
 ],
 "metadata": {
  "kernelspec": {
   "display_name": "Python 3",
   "language": "python",
   "name": "python3"
  },
  "language_info": {
   "codemirror_mode": {
    "name": "ipython",
    "version": 3
   },
   "file_extension": ".py",
   "mimetype": "text/x-python",
   "name": "python",
   "nbconvert_exporter": "python",
   "pygments_lexer": "ipython3",
   "version": "3.8.3"
  }
 },
 "nbformat": 4,
 "nbformat_minor": 4
}
