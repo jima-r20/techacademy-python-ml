{
 "cells": [
  {
   "cell_type": "code",
   "execution_count": 9,
   "metadata": {},
   "outputs": [],
   "source": [
    "class Dog:\n",
    "    # property\n",
    "    voice = \"bow!\"\n",
    "    \n",
    "    # constructor\n",
    "    def __init__(self, name = \"Buddy\"):  # コンストラクタ \n",
    "        self.name = name\n",
    "    \n",
    "    # method\n",
    "    def bark(self):\n",
    "        print(self.voice)\n",
    "        \n",
    "    # class method\n",
    "    @classmethod\n",
    "    def description(self):\n",
    "        print(f\"犬の鳴き声は{self.voice}\")"
   ]
  },
  {
   "cell_type": "code",
   "execution_count": 10,
   "metadata": {},
   "outputs": [
    {
     "name": "stdout",
     "output_type": "stream",
     "text": [
      "犬の鳴き声はbow!\n",
      "Buddy\n",
      "bow!\n",
      "Jake\n",
      "bow!\n"
     ]
    }
   ],
   "source": [
    "Dog.description()\n",
    "\n",
    "buddy = Dog()\n",
    "print(buddy.name)\n",
    "buddy.bark()\n",
    "\n",
    "jake = Dog(\"Jake\")\n",
    "print(jake.name)\n",
    "jake.bark()"
   ]
  },
  {
   "cell_type": "code",
   "execution_count": 12,
   "metadata": {},
   "outputs": [],
   "source": [
    "class Japanese_Dog:\n",
    "    voice = \"ワン！\"\n",
    "    \n",
    "    def __init__(self, name = \"ポチ\"):\n",
    "        self.name = name\n",
    "        \n",
    "    def bark(self):\n",
    "        print(self.voice)\n",
    "    \n",
    "    @classmethod\n",
    "    def description(self):\n",
    "        print(f\"日本の犬の鳴き声は{self.voice}\")"
   ]
  },
  {
   "cell_type": "code",
   "execution_count": 13,
   "metadata": {},
   "outputs": [
    {
     "name": "stdout",
     "output_type": "stream",
     "text": [
      "犬の鳴き声はbow!\n",
      "Buddy\n",
      "bow!\n",
      "Jake\n",
      "bow!\n",
      "日本の犬の鳴き声はワン！\n",
      "ポチ\n",
      "ワン！\n",
      "シロ\n",
      "ワン！\n"
     ]
    }
   ],
   "source": [
    "Dog.description()\n",
    "\n",
    "buddy = Dog()\n",
    "print(buddy.name)\n",
    "buddy.bark()\n",
    "\n",
    "jake = Dog(\"Jake\")\n",
    "print(jake.name)\n",
    "jake.bark()\n",
    "\n",
    "Japanese_Dog.description()\n",
    "\n",
    "pochi = Japanese_Dog()\n",
    "print(pochi.name)\n",
    "pochi.bark()\n",
    "\n",
    "shiro = Japanese_Dog(\"シロ\")\n",
    "print(shiro.name)\n",
    "shiro.bark()"
   ]
  },
  {
   "cell_type": "code",
   "execution_count": 14,
   "metadata": {},
   "outputs": [],
   "source": [
    "class Dog:\n",
    "    def __init__(self, name):\n",
    "        self.name = name\n",
    "        \n",
    "class English_Dog(Dog):\n",
    "    voice = \"bow!\"\n",
    "    \n",
    "    def __init__(self, name = \"Buddy\"):\n",
    "        super().__init__(name)\n",
    "        \n",
    "    def bark(self):\n",
    "        print(self.voice)\n",
    "        \n",
    "    @classmethod\n",
    "    def description(self):\n",
    "        print(f\"英語圏の犬の鳴き声は{self.voice}\")\n",
    "        \n",
    "class Japanese_Dog(Dog):\n",
    "    voice = \"ワン！\"\n",
    "    \n",
    "    def __init__(self, name = \"ポチ\"):\n",
    "        super().__init__(name)\n",
    "        \n",
    "    def bark(self):\n",
    "        print(self.voice)\n",
    "        \n",
    "    @classmethod\n",
    "    def description(self):\n",
    "        print(f\"日本の犬の鳴き声は{self.voice}\")"
   ]
  },
  {
   "cell_type": "code",
   "execution_count": 15,
   "metadata": {},
   "outputs": [
    {
     "name": "stdout",
     "output_type": "stream",
     "text": [
      "英語圏の犬の鳴き声はbow!\n",
      "Buddy\n",
      "bow!\n",
      "jake\n",
      "bow!\n",
      "日本の犬の鳴き声はワン！\n",
      "ポチ\n",
      "ワン！\n",
      "シロ\n",
      "ワン！\n"
     ]
    }
   ],
   "source": [
    "English_Dog.description()\n",
    "\n",
    "buddy = English_Dog()\n",
    "print(buddy.name)\n",
    "buddy.bark()\n",
    "\n",
    "jake = English_Dog(\"jake\")\n",
    "print(jake.name)\n",
    "jake.bark()\n",
    "\n",
    "Japanese_Dog.description()\n",
    "\n",
    "pochi = Japanese_Dog()\n",
    "print(pochi.name)\n",
    "pochi.bark()\n",
    "\n",
    "shiro = Japanese_Dog(\"シロ\")\n",
    "print(shiro.name)\n",
    "shiro.bark()"
   ]
  },
  {
   "cell_type": "code",
   "execution_count": 9,
   "metadata": {},
   "outputs": [],
   "source": [
    "# オーバーライド（親クラスのメソッドの定義内容を子クラスで上書きすること）\n",
    "class Dog:\n",
    "    voice = \"国によって変わる\"\n",
    "    \n",
    "    def __init__(self, name):\n",
    "        self.name = name\n",
    "        \n",
    "    def bark(self):\n",
    "        print(self.voice)\n",
    "        \n",
    "    @classmethod\n",
    "    def description(self):\n",
    "        print(f\"世界の犬の鳴き声は{self.voice}\")\n",
    "        \n",
    "class English_Dog(Dog):\n",
    "    voice = \"bow!\"\n",
    "    \n",
    "    def __init__(self, name = \"Buddy\"):\n",
    "        super().__init__(name)\n",
    "        \n",
    "    @classmethod\n",
    "    def description(self):\n",
    "        print(f\"英語圏の犬の鳴き声は{self.voice}\")\n",
    "        \n",
    "class Japanese_Dog(Dog):\n",
    "    voice = \"ワン！\"\n",
    "    \n",
    "    def __init__(self, name = \"ポチ\"):\n",
    "        super().__init__(name)\n",
    "        \n",
    "    @classmethod\n",
    "    def description(self):\n",
    "        print(f\"日本の犬の鳴き声は{self.voice}\")"
   ]
  },
  {
   "cell_type": "code",
   "execution_count": 11,
   "metadata": {},
   "outputs": [
    {
     "name": "stdout",
     "output_type": "stream",
     "text": [
      "世界の犬の鳴き声は国によって変わる\n",
      "犬\n",
      "国によって変わる\n",
      "英語圏の犬の鳴き声はbow!\n",
      "Buddy\n",
      "bow!\n",
      "Jake\n",
      "bow!\n",
      "日本の犬の鳴き声はワン！\n",
      "ポチ\n",
      "ワン！\n",
      "シロ\n",
      "ワン！\n"
     ]
    }
   ],
   "source": [
    "Dog.description()\n",
    "\n",
    "dog = Dog(\"犬\")\n",
    "print(dog.name)\n",
    "dog.bark()\n",
    "\n",
    "English_Dog.description()\n",
    "\n",
    "buddy = English_Dog()\n",
    "print(buddy.name)\n",
    "buddy.bark()\n",
    "\n",
    "jake = English_Dog(\"Jake\")\n",
    "print(jake.name)\n",
    "jake.bark()\n",
    "\n",
    "Japanese_Dog.description()\n",
    "\n",
    "pochi = Japanese_Dog()\n",
    "print(pochi.name)\n",
    "pochi.bark()\n",
    "\n",
    "shiro = Japanese_Dog(\"シロ\")\n",
    "print(shiro.name)\n",
    "shiro.bark()"
   ]
  },
  {
   "cell_type": "code",
   "execution_count": 12,
   "metadata": {},
   "outputs": [],
   "source": [
    "# オーバーロード（実際にはPythonでは実装されていない。あくまでそれっぽいこと）\n",
    "class Human:\n",
    "    def greet(self, name = None):\n",
    "        if name is None:\n",
    "            print(\"こんにちは\")\n",
    "        else:\n",
    "            print(f\"わたしの名前は{name}です\")"
   ]
  },
  {
   "cell_type": "code",
   "execution_count": 13,
   "metadata": {},
   "outputs": [
    {
     "name": "stdout",
     "output_type": "stream",
     "text": [
      "わたしの名前は田中です\n",
      "こんにちは\n"
     ]
    }
   ],
   "source": [
    "human = Human()\n",
    "human.greet(\"田中\")\n",
    "human.greet()"
   ]
  },
  {
   "cell_type": "code",
   "execution_count": 16,
   "metadata": {},
   "outputs": [],
   "source": [
    "# カプセル化\n",
    "class Human2:\n",
    "    def __init__(self, name):\n",
    "        self.__name = name"
   ]
  },
  {
   "cell_type": "code",
   "execution_count": 17,
   "metadata": {},
   "outputs": [
    {
     "ename": "AttributeError",
     "evalue": "'Human2' object has no attribute '__name'",
     "output_type": "error",
     "traceback": [
      "\u001b[0;31m---------------------------------------------------------------------------\u001b[0m",
      "\u001b[0;31mAttributeError\u001b[0m                            Traceback (most recent call last)",
      "\u001b[0;32m<ipython-input-17-111fd9a5ffd0>\u001b[0m in \u001b[0;36m<module>\u001b[0;34m\u001b[0m\n\u001b[1;32m      1\u001b[0m \u001b[0mtanaka\u001b[0m \u001b[0;34m=\u001b[0m \u001b[0mHuman2\u001b[0m\u001b[0;34m(\u001b[0m\u001b[0;34m\"田中\"\u001b[0m\u001b[0;34m)\u001b[0m\u001b[0;34m\u001b[0m\u001b[0;34m\u001b[0m\u001b[0m\n\u001b[0;32m----> 2\u001b[0;31m \u001b[0mprint\u001b[0m\u001b[0;34m(\u001b[0m\u001b[0mtanaka\u001b[0m\u001b[0;34m.\u001b[0m\u001b[0m__name\u001b[0m\u001b[0;34m)\u001b[0m\u001b[0;34m\u001b[0m\u001b[0;34m\u001b[0m\u001b[0m\n\u001b[0m\u001b[1;32m      3\u001b[0m \u001b[0;34m\u001b[0m\u001b[0m\n\u001b[1;32m      4\u001b[0m \u001b[0msuzuki\u001b[0m \u001b[0;34m=\u001b[0m \u001b[0mHuman2\u001b[0m\u001b[0;34m(\u001b[0m\u001b[0;34m\"鈴木\"\u001b[0m\u001b[0;34m)\u001b[0m\u001b[0;34m\u001b[0m\u001b[0;34m\u001b[0m\u001b[0m\n\u001b[1;32m      5\u001b[0m \u001b[0mprint\u001b[0m\u001b[0;34m(\u001b[0m\u001b[0msuzuki\u001b[0m\u001b[0;34m.\u001b[0m\u001b[0m__name\u001b[0m\u001b[0;34m)\u001b[0m\u001b[0;34m\u001b[0m\u001b[0;34m\u001b[0m\u001b[0m\n",
      "\u001b[0;31mAttributeError\u001b[0m: 'Human2' object has no attribute '__name'"
     ]
    }
   ],
   "source": [
    "# 以下の場合メンバ変数にアクセスできない（カプセル化）\n",
    "tanaka = Human2(\"田中\")\n",
    "print(tanaka.__name)\n",
    "\n",
    "suzuki = Human2(\"鈴木\")\n",
    "print(suzuki.__name)"
   ]
  },
  {
   "cell_type": "code",
   "execution_count": 18,
   "metadata": {},
   "outputs": [
    {
     "name": "stdout",
     "output_type": "stream",
     "text": [
      "田中\n",
      "鈴木\n"
     ]
    }
   ],
   "source": [
    "# 以下のように記述するとアクセスできる（※Pythonでは完全なカプセル化となっていないため）\n",
    "# 「インスタンス変数名._クラス名__メンバ変数名」\n",
    "# →　お作法としては使用しない方がいい\n",
    "tanaka = Human2(\"田中\")\n",
    "print(tanaka._Human2__name)\n",
    "\n",
    "suzuki = Human2(\"鈴木\")\n",
    "print(suzuki._Human2__name)"
   ]
  },
  {
   "cell_type": "code",
   "execution_count": 19,
   "metadata": {},
   "outputs": [],
   "source": [
    "# ゲッターとセッター\n",
    "class Human3:\n",
    "    def __init__(self, name):\n",
    "        self.set_name(name)\n",
    "        \n",
    "    def get_name(self):\n",
    "        return self.__name\n",
    "    \n",
    "    def set_name(self, name):\n",
    "        self.__name = name"
   ]
  },
  {
   "cell_type": "code",
   "execution_count": 20,
   "metadata": {},
   "outputs": [
    {
     "name": "stdout",
     "output_type": "stream",
     "text": [
      "田中\n",
      "鈴木\n"
     ]
    }
   ],
   "source": [
    "tanaka = Human3(\"田中\")\n",
    "print(tanaka.get_name())\n",
    "\n",
    "suzuki = Human3(\"鈴木\")\n",
    "print(suzuki.get_name())"
   ]
  },
  {
   "cell_type": "code",
   "execution_count": 3,
   "metadata": {},
   "outputs": [
    {
     "name": "stdout",
     "output_type": "stream",
     "text": [
      "世界の鳴き声は国によって変わる\n",
      "犬\n",
      "国によって変わる\n",
      "英語圏の鳴き声はbow!\n",
      "Buddy\n",
      "bow!\n",
      "Jake\n",
      "bow!\n",
      "日本の鳴き声はワン!\n",
      "ポチ\n",
      "ワン!\n",
      "シロ\n",
      "ワン!\n"
     ]
    }
   ],
   "source": [
    "# 定義したクラスのインポート\n",
    "from dogs import Dog2, English_Dog2, Japanese_Dog2\n",
    "\n",
    "Dog2.description()\n",
    "\n",
    "dog = Dog2(\"犬\")\n",
    "print(dog.name)\n",
    "dog.bark()\n",
    "\n",
    "English_Dog2.description()\n",
    "\n",
    "buddy = English_Dog2()\n",
    "print(buddy.name)\n",
    "buddy.bark()\n",
    "\n",
    "jake = English_Dog2(\"Jake\")\n",
    "print(jake.name)\n",
    "jake.bark()\n",
    "\n",
    "Japanese_Dog2.description()\n",
    "\n",
    "pochi = Japanese_Dog2()\n",
    "print(pochi.name)\n",
    "pochi.bark()\n",
    "\n",
    "shiro = Japanese_Dog2(\"シロ\")\n",
    "print(shiro.name)\n",
    "shiro.bark()"
   ]
  },
  {
   "cell_type": "code",
   "execution_count": 11,
   "metadata": {},
   "outputs": [],
   "source": [
    "# データクラス　→　コンストラクタの定義が不要になる\n",
    "from dataclasses import dataclass\n",
    "from typing import ClassVar\n",
    "\n",
    "@dataclass\n",
    "class Cat:\n",
    "    name: str = \"猫\"  # インスタンスメンバ変数　→　変数名： データ型 = デフォルト値\n",
    "    voice: ClassVar[str] = \"ニャー\"  # クラスメンバ変数　→　変数名: ClassVar[データ型] = 初期値\n",
    "            \n",
    "    def description(self):\n",
    "        print(f\"{self.name}です。鳴き声は{self.voice}です。\")"
   ]
  },
  {
   "cell_type": "code",
   "execution_count": 12,
   "metadata": {},
   "outputs": [
    {
     "name": "stdout",
     "output_type": "stream",
     "text": [
      "猫です。鳴き声はニャーです。\n",
      "タマです。鳴き声はニャーです。\n"
     ]
    }
   ],
   "source": [
    "cat1 = Cat()\n",
    "cat1.description()\n",
    "cat2 = Cat(\"タマ\")\n",
    "cat2.description()"
   ]
  },
  {
   "cell_type": "code",
   "execution_count": null,
   "metadata": {},
   "outputs": [],
   "source": []
  }
 ],
 "metadata": {
  "kernelspec": {
   "display_name": "Python 3",
   "language": "python",
   "name": "python3"
  },
  "language_info": {
   "codemirror_mode": {
    "name": "ipython",
    "version": 3
   },
   "file_extension": ".py",
   "mimetype": "text/x-python",
   "name": "python",
   "nbconvert_exporter": "python",
   "pygments_lexer": "ipython3",
   "version": "3.8.3"
  }
 },
 "nbformat": 4,
 "nbformat_minor": 4
}
