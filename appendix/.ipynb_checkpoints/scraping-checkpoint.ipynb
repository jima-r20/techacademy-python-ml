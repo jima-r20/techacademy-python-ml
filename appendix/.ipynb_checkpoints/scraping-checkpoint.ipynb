{
 "cells": [
  {
   "cell_type": "code",
   "execution_count": 2,
   "metadata": {},
   "outputs": [],
   "source": [
    "# スクレイピング\n",
    "# -> 日経平均株価の取得\n",
    "import urllib.request as request  # URLにアクセスしてHTMLデータを取得するためのライブラリ\n",
    "from bs4 import BeautifulSoup  # 取得したHTMLデータを解析してデータを抽出するためのライブラリ\n",
    "import pandas as pd  # 抽出したデータをCSVに保存\n",
    "from datetime import datetime, timedelta, timezone\n",
    "\n",
    "url = 'https://www.nikkei.com/markets/worldidx/chart/nk225/'\n",
    "\n",
    "response = request.urlopen(url)\n",
    "\n",
    "bs = BeautifulSoup(response, 'html.parser')"
   ]
  },
  {
   "cell_type": "code",
   "execution_count": 4,
   "metadata": {},
   "outputs": [
    {
     "name": "stdout",
     "output_type": "stream",
     "text": [
      "28,646.50\n"
     ]
    }
   ],
   "source": [
    "# 株価の表示されている部分を取得\n",
    "stocksPrice = bs.select('.economic_value_now')[0].text\n",
    "print(stocksPrice)"
   ]
  },
  {
   "cell_type": "code",
   "execution_count": 8,
   "metadata": {},
   "outputs": [
    {
     "name": "stdout",
     "output_type": "stream",
     "text": [
      "            0          1\n",
      "0  2021-02-03  28,646.50\n"
     ]
    }
   ],
   "source": [
    "# CSVに保存\n",
    "\n",
    "# 今日の日付取得\n",
    "jst = timezone(timedelta(hours=+9), 'JST')\n",
    "today = datetime.now(jst).date().isoformat()\n",
    "\n",
    "# pandasのDataFrameを生成\n",
    "df = pd.DataFrame(data = [[today, stocksPrice]])\n",
    "print(df)\n",
    "\n",
    "# CSVに保存 -> mode = 'a'は新しい行を追記の意味\n",
    "df.to_csv('stocks_price.csv', mode = 'a', header = False, index = False)"
   ]
  },
  {
   "cell_type": "code",
   "execution_count": 9,
   "metadata": {},
   "outputs": [],
   "source": [
    "response.close()"
   ]
  },
  {
   "cell_type": "code",
   "execution_count": null,
   "metadata": {},
   "outputs": [],
   "source": []
  }
 ],
 "metadata": {
  "kernelspec": {
   "display_name": "Python 3",
   "language": "python",
   "name": "python3"
  },
  "language_info": {
   "codemirror_mode": {
    "name": "ipython",
    "version": 3
   },
   "file_extension": ".py",
   "mimetype": "text/x-python",
   "name": "python",
   "nbconvert_exporter": "python",
   "pygments_lexer": "ipython3",
   "version": "3.8.3"
  }
 },
 "nbformat": 4,
 "nbformat_minor": 4
}
