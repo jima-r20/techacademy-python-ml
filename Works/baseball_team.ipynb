{
 "cells": [
  {
   "cell_type": "code",
   "execution_count": 28,
   "metadata": {},
   "outputs": [],
   "source": [
    "class Baseball_Team:\n",
    "    def __init__(self, name, win, lose, draw):\n",
    "        self.name = name\n",
    "        self.win = win\n",
    "        self.lose = lose\n",
    "        self.draw = draw\n",
    "        \n",
    "    def calc_win_rate(self):\n",
    "        self.win_rate =  self.win / (self.win + self.lose)\n",
    "    \n",
    "    def show_team_result(self):\n",
    "        print(\n",
    "            '{:8}'.format(self.name),\n",
    "            '{:3}'.format(self.win),\n",
    "            '{:4}'.format(self.lose),\n",
    "            '{:4}'.format(self.draw),\n",
    "            '{:.3f}'.format(self.win_rate)\n",
    "        )\n",
    "        "
   ]
  },
  {
   "cell_type": "code",
   "execution_count": 32,
   "metadata": {},
   "outputs": [
    {
     "name": "stdout",
     "output_type": "stream",
     "text": [
      "team     win lose draw rate\n",
      "Giants    77   64    2 0.546\n",
      "BayStars  71   69    3 0.507\n",
      "Tigers    69   68    6 0.504\n",
      "Carp      70   70    3 0.500\n",
      "Dragons   68   73    2 0.482\n",
      "Swallows  59   82    2 0.418\n"
     ]
    }
   ],
   "source": [
    "giants = Baseball_Team(\"Giants\", 77, 64, 2)\n",
    "bay_stars = Baseball_Team(\"BayStars\", 71, 69, 3)\n",
    "tigers = Baseball_Team(\"Tigers\", 69, 68, 6)\n",
    "carp = Baseball_Team(\"Carp\", 70, 70, 3)\n",
    "dragons = Baseball_Team(\"Dragons\", 68, 73, 2)\n",
    "swallows = Baseball_Team(\"Swallows\", 59, 82, 2)\n",
    "\n",
    "giants.calc_win_rate()\n",
    "bay_stars.calc_win_rate()\n",
    "tigers.calc_win_rate()\n",
    "carp.calc_win_rate()\n",
    "dragons.calc_win_rate()\n",
    "swallows.calc_win_rate()\n",
    "\n",
    "print('{:8}'.format(\"team\"), \"win\", \"lose\", \"draw\", \"rate\")\n",
    "giants.show_team_result()\n",
    "bay_stars.show_team_result()\n",
    "tigers.show_team_result()\n",
    "carp.show_team_result()\n",
    "dragons.show_team_result()\n",
    "swallows.show_team_result()"
   ]
  },
  {
   "cell_type": "code",
   "execution_count": null,
   "metadata": {},
   "outputs": [],
   "source": []
  }
 ],
 "metadata": {
  "kernelspec": {
   "display_name": "Python 3",
   "language": "python",
   "name": "python3"
  },
  "language_info": {
   "codemirror_mode": {
    "name": "ipython",
    "version": 3
   },
   "file_extension": ".py",
   "mimetype": "text/x-python",
   "name": "python",
   "nbconvert_exporter": "python",
   "pygments_lexer": "ipython3",
   "version": "3.8.3"
  }
 },
 "nbformat": 4,
 "nbformat_minor": 4
}
