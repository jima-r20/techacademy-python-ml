{
 "cells": [
  {
   "cell_type": "code",
   "execution_count": 22,
   "metadata": {},
   "outputs": [
    {
     "name": "stdout",
     "output_type": "stream",
     "text": [
      "  1  2  3  4  5  6  7  8  9\n",
      "  2  4  6  8 10 12 14 16 18\n",
      "  3  6  9 12 15 18 21 24 27\n",
      "  4  8 12 16 20 24 28 32 36\n",
      "  5 10 15 20 25 30 35 40 45\n",
      "  6 12 18 24 30 36 42 48 54\n",
      "  7 14 21 28 35 42 49 56 63\n",
      "  8 16 24 32 40 48 56 64 72\n",
      "  9 18 27 36 45 54 63 72 81\n"
     ]
    }
   ],
   "source": [
    "# こちらが課題の回答です。\n",
    "\n",
    "# 九九のリストを作成する\n",
    "list_kuku = [[(x * y) for y in range(1,10)] for x in range(1, 10)]\n",
    "\n",
    "# 九九の表を表示する\n",
    "for row in list_kuku:\n",
    "    for column in row:\n",
    "        print(f\"{column:3d}\", end=\"\")\n",
    "        \n",
    "    print(\"\")"
   ]
  },
  {
   "cell_type": "code",
   "execution_count": null,
   "metadata": {},
   "outputs": [],
   "source": [
    "# 初回提出時の回答\n",
    "\n",
    "# 九九のリストを作成する\n",
    "list_kuku = [[(x * y) for y in range(1,10)] for x in range(1, 10)]\n",
    "\n",
    "# 九九の表を表示する\n",
    "for v in range(9):\n",
    "    for h in range(9):\n",
    "        print(f\"{list_kuku[v][h]:3d}\", end=\"\")\n",
    "    \n",
    "    print(\"\")"
   ]
  },
  {
   "cell_type": "code",
   "execution_count": null,
   "metadata": {},
   "outputs": [],
   "source": [
    "# 九九のリストを作成する\n",
    "\n",
    "\n",
    "# 九九の表を表示する\n",
    "for v in range(1, 10):\n",
    "    for h in range(1, 10):\n",
    "        print(f\"{(v * h):3d}\", end=\"\")\n",
    "    \n",
    "    print(\"\")"
   ]
  }
 ],
 "metadata": {
  "kernelspec": {
   "display_name": "Python 3",
   "language": "python",
   "name": "python3"
  },
  "language_info": {
   "codemirror_mode": {
    "name": "ipython",
    "version": 3
   },
   "file_extension": ".py",
   "mimetype": "text/x-python",
   "name": "python",
   "nbconvert_exporter": "python",
   "pygments_lexer": "ipython3",
   "version": "3.8.3"
  }
 },
 "nbformat": 4,
 "nbformat_minor": 4
}
